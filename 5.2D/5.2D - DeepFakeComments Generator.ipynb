{
 "cells": [
  {
   "cell_type": "markdown",
   "metadata": {},
   "source": [
    "GitHub: https://github.com/rohanneps/deakin/"
   ]
  },
  {
   "cell_type": "markdown",
   "metadata": {},
   "source": [
    "\n",
    "Welcome to your assignment this week! \n",
    "\n",
    "To better understand the adverse use of AI, in this assignment, we will look at a Natural Language Processing use case.\n",
    "\n",
    "\n",
    "Natural Language Pocessing (NLP) is a branch of Artificial Intelligence (AI) that helps computers to understand, to interpret and to manipulate natural (i.e. human) language.\n",
    "Imagine NLP-powered machines as black boxes that are capable of understanding and evaluating the context of the input documents (i.e. collection of words), outputting meaningful results that depend on the task the machine is designed for.\n",
    "\n",
    "\n",
    "![](imgs/1_3zMvUnPzYZF9CSHdj6hT5A.png)\n",
    "\n",
    "<caption><center> Documents are fed into magic NLP model capable to get, for instance, the sentiment of the original content</center></caption>\n",
    "\n",
    "\n",
    "In this notebook, you will implement a model that uses an LSTM to generate fake tweets and comments. You will also be able to try it to generate your own fake text. \n",
    "\n",
    "**You will learn to:**\n",
    "- Apply an LSTM to generate fake comments.\n",
    "- Generate your own fake text with deep learning.\n",
    "\n",
    "Please run the following cell to load all the packages required in this assignment. This may take a few minutes. \n"
   ]
  },
  {
   "cell_type": "code",
   "execution_count": 1,
   "metadata": {},
   "outputs": [],
   "source": [
    "#!pip install numpy\n",
    "#!pip install keras\n",
    "#!pip install tensorflow"
   ]
  },
  {
   "cell_type": "markdown",
   "metadata": {},
   "source": [
    "Run the following cell to load the packages you will need."
   ]
  },
  {
   "cell_type": "code",
   "execution_count": 27,
   "metadata": {},
   "outputs": [],
   "source": [
    "import time\n",
    "from tensorflow.keras.preprocessing.sequence import pad_sequences\n",
    "from tensorflow.keras.layers import Embedding, LSTM, Dense, Dropout, Bidirectional\n",
    "from tensorflow.keras.preprocessing.text import Tokenizer\n",
    "from tensorflow.keras.models import Sequential, load_model\n",
    "from tensorflow.keras.optimizers import Adam\n",
    "from tensorflow.keras import regularizers\n",
    "from tensorflow.keras.callbacks import ModelCheckpoint,ReduceLROnPlateau, EarlyStopping\n",
    "import tensorflow.keras.utils as ku \n",
    "import keras.backend as K\n",
    "import matplotlib.pyplot as plt\n",
    "import numpy as np\n",
    "import tensorflow as tf\n",
    "\n",
    "tf.get_logger().setLevel('INFO')"
   ]
  },
  {
   "cell_type": "markdown",
   "metadata": {},
   "source": [
    "# Build the model"
   ]
  },
  {
   "cell_type": "markdown",
   "metadata": {},
   "source": [
    "Let's define a tokenizer and read the data from disk."
   ]
  },
  {
   "cell_type": "code",
   "execution_count": 4,
   "metadata": {},
   "outputs": [],
   "source": [
    "tokenizer = Tokenizer(filters='\"#$%&()*+-/:;<=>@[\\\\]^_`{|}~\\t\\n')\n",
    "data = open('covid19_fake.txt').read().replace(\".\", \" . \").replace(\",\", \" , \").replace(\"?\", \" ? \").replace(\"!\", \" ! \")"
   ]
  },
  {
   "cell_type": "markdown",
   "metadata": {},
   "source": [
    "Now, let's splits the data into tweets  where each line of the input file is a fake tweets.\n",
    "\n",
    "We also extract the vocabulary of the data."
   ]
  },
  {
   "cell_type": "code",
   "execution_count": 5,
   "metadata": {},
   "outputs": [],
   "source": [
    "corpus = data.lower().split(\"\\n\")\n",
    "tokenizer.fit_on_texts(corpus)\n",
    "total_words = len(tokenizer.word_index) + 1"
   ]
  },
  {
   "cell_type": "markdown",
   "metadata": {},
   "source": [
    "You've loaded:\n",
    "- `corpus`: an array where each entry is a fake post.\n",
    "- `tokenizer`: which is the object that we will use to vectorize our dataset. This object also contains our word index.\n",
    "- `total_words`: is the total number of words in the vacabulary.\n"
   ]
  },
  {
   "cell_type": "code",
   "execution_count": 6,
   "metadata": {},
   "outputs": [
    {
     "name": "stdout",
     "output_type": "stream",
     "text": [
      "Example of fake tweets:  ['there is already a vaccine to treat covid19 . ', 'cleaning hands do not help to prevent covid19 . ']\n",
      "Size of the vocabulary =  1257\n",
      "Example of our word index =  [('.', 1), ('the', 2), ('covid19', 3), ('in', 4), ('to', 5), ('a', 6), ('of', 7), (',', 8), ('coronavirus', 9), ('and', 10)]\n"
     ]
    }
   ],
   "source": [
    "print(\"Example of fake tweets: \",corpus[:2])\n",
    "print(\"Size of the vocabulary = \", total_words)\n",
    "index = [(k, v) for k, v in tokenizer.word_index.items()]\n",
    "print(\"Example of our word index = \", index[0:10])"
   ]
  },
  {
   "cell_type": "code",
   "execution_count": 7,
   "metadata": {},
   "outputs": [
    {
     "data": {
      "text/plain": [
       "[[48, 12, 278, 6, 49, 5, 133, 3, 1]]"
      ]
     },
     "execution_count": 7,
     "metadata": {},
     "output_type": "execute_result"
    }
   ],
   "source": [
    "example = tokenizer.texts_to_sequences([corpus[0]])\n",
    "example"
   ]
  },
  {
   "cell_type": "markdown",
   "metadata": {},
   "source": [
    "The next step aims to generate the training set of n_grams sequences."
   ]
  },
  {
   "cell_type": "code",
   "execution_count": 8,
   "metadata": {},
   "outputs": [],
   "source": [
    "input_sequences = []\n",
    "for line in corpus:\n",
    "    # convert each document to list of tokens\n",
    "    token_list = tokenizer.texts_to_sequences([line])[0]\n",
    "    for i in range(1, len(token_list)):\n",
    "        n_gram_sequence = token_list[:i+1]\n",
    "        input_sequences.append(n_gram_sequence)"
   ]
  },
  {
   "cell_type": "markdown",
   "metadata": {},
   "source": [
    "You've create:\n",
    "- `input_sequences`: which is a list of n_grams sequences."
   ]
  },
  {
   "cell_type": "code",
   "execution_count": 9,
   "metadata": {},
   "outputs": [
    {
     "name": "stdout",
     "output_type": "stream",
     "text": [
      "The entry  20  in 'input_sequences' is: \n",
      "[2, 3, 12, 187, 34, 188]\n",
      " and it corresponds to:\n",
      "the covid19 is same as sars "
     ]
    }
   ],
   "source": [
    "sample = 20\n",
    "reverse_word_map = dict(map(reversed, tokenizer.word_index.items()))\n",
    "print(\"The entry \",sample,\" in 'input_sequences' is: \")\n",
    "print(input_sequences[sample])\n",
    "print(\" and it corresponds to:\")\n",
    "for i in input_sequences[sample]:\n",
    "    print(reverse_word_map[i], end=' ')\n",
    "                        "
   ]
  },
  {
   "cell_type": "markdown",
   "metadata": {},
   "source": [
    "Next, we padd our training set to the max length in order to be able to make a batch processing."
   ]
  },
  {
   "cell_type": "code",
   "execution_count": 10,
   "metadata": {},
   "outputs": [],
   "source": [
    "max_sequence_len = max([len(x) for x in input_sequences])\n",
    "input_sequences = np.array(pad_sequences(input_sequences, maxlen=max_sequence_len, padding='pre'))"
   ]
  },
  {
   "cell_type": "markdown",
   "metadata": {},
   "source": [
    "Run the following to see the containt of the padded 'input_sequences' object."
   ]
  },
  {
   "cell_type": "code",
   "execution_count": 11,
   "metadata": {},
   "outputs": [
    {
     "name": "stdout",
     "output_type": "stream",
     "text": [
      "The entry  20  in 'input_sequences' is: \n",
      "[  0   0   0   0   0   0   0   0   0   0   0   0   0   0   0   0   0   0\n",
      "   0   0   0   0   0   0   0   0   0   0   0   0   0   0   0   0   0   0\n",
      "   0   0   0   0   0   0   0   0   0   0   0   0   0   0   0   0   0   0\n",
      "   0   2   3  12 187  34 188]\n",
      " and it corresponds to:\n",
      "[ __ __ __ __ __ __ __ __ __ __ __ __ __ __ __ __ __ __ __ __ __ __ __ __ __ __ __ __ __ __ __ __ __ __ __ __ __ __ __ __ __ __ __ __ __ __ __ __ __ __ __ __ __ __ __ the covid19 is same as sars ]\n"
     ]
    }
   ],
   "source": [
    "# reverse_word_map = dict(map(reversed, tokenizer.word_index.items()))\n",
    "print(\"The entry \",sample,\" in 'input_sequences' is: \")\n",
    "print(input_sequences[sample])\n",
    "print(\" and it corresponds to:\")\n",
    "print(\"[\", end=' ')\n",
    "for i in input_sequences[sample]:\n",
    "    if i in reverse_word_map:\n",
    "        print(reverse_word_map[i], end=' ')\n",
    "    else:\n",
    "        print(\"__\", end=' ')\n",
    "print(\"]\")\n",
    "                "
   ]
  },
  {
   "cell_type": "markdown",
   "metadata": {},
   "source": [
    "Given a sentence like **\"the covid19 is same as \"**, we want to design a model that can predict the next word -- in the case the word **\"sars\"**.\n",
    "\n",
    "Therefore, the next code prepares our input and output to our model consequently."
   ]
  },
  {
   "cell_type": "code",
   "execution_count": 12,
   "metadata": {},
   "outputs": [],
   "source": [
    "# Assigning input and outputs to the model\n",
    "input_to_model, label = input_sequences[:,:-1],input_sequences[:,-1]"
   ]
  },
  {
   "cell_type": "code",
   "execution_count": 13,
   "metadata": {},
   "outputs": [
    {
     "data": {
      "text/plain": [
       "(4030, 60)"
      ]
     },
     "execution_count": 13,
     "metadata": {},
     "output_type": "execute_result"
    }
   ],
   "source": [
    "input_to_model.shape"
   ]
  },
  {
   "cell_type": "code",
   "execution_count": 14,
   "metadata": {},
   "outputs": [
    {
     "name": "stdout",
     "output_type": "stream",
     "text": [
      "The entry  20  in 'input_sequences' is: \n",
      "[  0   0   0   0   0   0   0   0   0   0   0   0   0   0   0   0   0   0\n",
      "   0   0   0   0   0   0   0   0   0   0   0   0   0   0   0   0   0   0\n",
      "   0   0   0   0   0   0   0   0   0   0   0   0   0   0   0   0   0   0\n",
      "   0   2   3  12 187  34 188]\n",
      ", it corresponds to the following input to our model:\n",
      "[  0   0   0   0   0   0   0   0   0   0   0   0   0   0   0   0   0   0\n",
      "   0   0   0   0   0   0   0   0   0   0   0   0   0   0   0   0   0   0\n",
      "   0   0   0   0   0   0   0   0   0   0   0   0   0   0   0   0   0   0\n",
      "   0   2   3  12 187  34]\n",
      " and the following output:  188\n"
     ]
    }
   ],
   "source": [
    "print(\"The entry \",sample,\" in 'input_sequences' is: \")\n",
    "print(input_sequences[sample])\n",
    "print(\", it corresponds to the following input to our model:\")\n",
    "print(input_to_model[sample])\n",
    "print(\" and the following output: \", label[sample])\n"
   ]
  },
  {
   "cell_type": "markdown",
   "metadata": {},
   "source": [
    "Finally, we convert our label to categorical labels for being processed by our model."
   ]
  },
  {
   "cell_type": "code",
   "execution_count": 15,
   "metadata": {},
   "outputs": [],
   "source": [
    "label = ku.to_categorical(label, num_classes=total_words)"
   ]
  },
  {
   "cell_type": "code",
   "execution_count": 16,
   "metadata": {},
   "outputs": [
    {
     "data": {
      "text/plain": [
       "188"
      ]
     },
     "execution_count": 16,
     "metadata": {},
     "output_type": "execute_result"
    }
   ],
   "source": [
    "np.argmax(label[sample]) # the index where there is a value should be 188 as shown by id label above"
   ]
  },
  {
   "cell_type": "markdown",
   "metadata": {},
   "source": [
    "Here is the architecture of the model we will use:\n",
    "\n",
    "![](imgs/text_generation.png)\n",
    "\n"
   ]
  },
  {
   "cell_type": "markdown",
   "metadata": {},
   "source": [
    " \n",
    "**Task 1**: Implement `deep_fake_comment_model()`. You will need to carry out 5 steps:\n",
    "\n",
    "1. Create a sequencial model using the `Sequential` class\n",
    "2. Add an embedding layer to the model using the `Embedding` class of size 128\n",
    "3. Add an LSTM layer to the model using the `LSTM` class of size 128\n",
    "4. Add a Dense layer to the model using the `Dense` class with a `softmax` activation\n",
    "5. Set a `categorical_crossentropy` loss function to the model and optimize `accuracy`.\n"
   ]
  },
  {
   "cell_type": "code",
   "execution_count": 18,
   "metadata": {},
   "outputs": [
    {
     "name": "stdout",
     "output_type": "stream",
     "text": [
      "Model: \"sequential_1\"\n",
      "_________________________________________________________________\n",
      "Layer (type)                 Output Shape              Param #   \n",
      "=================================================================\n",
      "embedding_1 (Embedding)      (None, None, 128)         160896    \n",
      "_________________________________________________________________\n",
      "lstm_1 (LSTM)                (None, 128)               131584    \n",
      "_________________________________________________________________\n",
      "dropout_1 (Dropout)          (None, 128)               0         \n",
      "_________________________________________________________________\n",
      "dense_1 (Dense)              (None, 1257)              162153    \n",
      "=================================================================\n",
      "Total params: 454,633\n",
      "Trainable params: 454,633\n",
      "Non-trainable params: 0\n",
      "_________________________________________________________________\n"
     ]
    }
   ],
   "source": [
    "#TASK 1\n",
    "# deep_fake_comment_model\n",
    "\n",
    "def deep_fake_comment_model():\n",
    "    ### START CODE HERE ### \n",
    "    model = Sequential()\n",
    "    model.add(Embedding(total_words, 128))\n",
    "    model.add(LSTM(128))\n",
    "    model.add(Dropout(0.4))                   # to prevent overfitting\n",
    "    model.add(Dense(total_words, activation='softmax'))\n",
    "    model.compile(loss='categorical_crossentropy', optimizer='adam', metrics=['accuracy'])\n",
    "    ### END CODE HERE ### \n",
    "    return model\n",
    "\n",
    "#Print details of the model.\n",
    "model = deep_fake_comment_model()\n",
    "model.summary()"
   ]
  },
  {
   "cell_type": "markdown",
   "metadata": {},
   "source": [
    "Now, let's start our training."
   ]
  },
  {
   "cell_type": "code",
   "execution_count": 23,
   "metadata": {
    "scrolled": false
   },
   "outputs": [
    {
     "name": "stdout",
     "output_type": "stream",
     "text": [
      "WARNING:tensorflow:`period` argument is deprecated. Please use `save_freq` to specify the frequency in number of samples seen.\n",
      "Epoch 1/200\n",
      "4030/4030 [==============================] - 74s 18ms/sample - loss: 0.2110 - acc: 0.9442\n",
      "Epoch 2/200\n",
      "4030/4030 [==============================] - 66s 16ms/sample - loss: 0.2172 - acc: 0.9457\n",
      "Epoch 3/200\n",
      "4030/4030 [==============================] - 62s 15ms/sample - loss: 0.2168 - acc: 0.9437\n",
      "Epoch 4/200\n",
      "4030/4030 [==============================] - 58s 14ms/sample - loss: 0.2164 - acc: 0.9427\n",
      "Epoch 5/200\n",
      "4030/4030 [==============================] - 55s 14ms/sample - loss: 0.2126 - acc: 0.9474\n",
      "Epoch 6/200\n",
      "4030/4030 [==============================] - 52s 13ms/sample - loss: 0.2198 - acc: 0.9457\n",
      "Epoch 7/200\n",
      "4030/4030 [==============================] - 51s 13ms/sample - loss: 0.2222 - acc: 0.9424\n",
      "Epoch 8/200\n",
      "4030/4030 [==============================] - 52s 13ms/sample - loss: 0.2148 - acc: 0.9467\n",
      "Epoch 9/200\n",
      "4030/4030 [==============================] - 58s 14ms/sample - loss: 0.2084 - acc: 0.9447\n",
      "Epoch 10/200\n",
      "4030/4030 [==============================] - 56s 14ms/sample - loss: 0.2288 - acc: 0.9395\n",
      "Epoch 11/200\n",
      "4030/4030 [==============================] - 55s 14ms/sample - loss: 0.2105 - acc: 0.9469\n",
      "Epoch 12/200\n",
      "4030/4030 [==============================] - 56s 14ms/sample - loss: 0.2204 - acc: 0.9439\n",
      "Epoch 13/200\n",
      "4030/4030 [==============================] - 56s 14ms/sample - loss: 0.2106 - acc: 0.9457\n",
      "Epoch 14/200\n",
      "4030/4030 [==============================] - 55s 14ms/sample - loss: 0.2053 - acc: 0.9511\n",
      "Epoch 15/200\n",
      "4030/4030 [==============================] - 59s 15ms/sample - loss: 0.2183 - acc: 0.9400\n",
      "Epoch 16/200\n",
      "4030/4030 [==============================] - 54s 13ms/sample - loss: 0.2147 - acc: 0.9459\n",
      "Epoch 17/200\n",
      "4030/4030 [==============================] - 54s 13ms/sample - loss: 0.2072 - acc: 0.9479\n",
      "Epoch 18/200\n",
      "4030/4030 [==============================] - 58s 14ms/sample - loss: 0.2192 - acc: 0.9447\n",
      "Epoch 19/200\n",
      "4030/4030 [==============================] - 55s 14ms/sample - loss: 0.2149 - acc: 0.9417\n",
      "Epoch 20/200\n",
      "4030/4030 [==============================] - 58s 14ms/sample - loss: 0.2148 - acc: 0.9442\n",
      "Epoch 21/200\n",
      "4030/4030 [==============================] - 55s 14ms/sample - loss: 0.2146 - acc: 0.9434\n",
      "Epoch 22/200\n",
      "4030/4030 [==============================] - 55s 14ms/sample - loss: 0.2160 - acc: 0.9474\n",
      "Epoch 23/200\n",
      "4030/4030 [==============================] - 55s 14ms/sample - loss: 0.2126 - acc: 0.9471\n",
      "Epoch 24/200\n",
      "4030/4030 [==============================] - 57s 14ms/sample - loss: 0.2050 - acc: 0.9474\n",
      "Epoch 25/200\n",
      "4030/4030 [==============================] - 55s 14ms/sample - loss: 0.2216 - acc: 0.9427\n",
      "Epoch 26/200\n",
      "4030/4030 [==============================] - 56s 14ms/sample - loss: 0.2106 - acc: 0.9449\n",
      "Epoch 27/200\n",
      "4030/4030 [==============================] - 55s 14ms/sample - loss: 0.2241 - acc: 0.9397\n",
      "Epoch 28/200\n",
      "4030/4030 [==============================] - 55s 14ms/sample - loss: 0.2189 - acc: 0.9449\n",
      "Epoch 29/200\n",
      "4030/4030 [==============================] - 58s 14ms/sample - loss: 0.2184 - acc: 0.9419\n",
      "Epoch 00029: early stopping\n"
     ]
    }
   ],
   "source": [
    "# callbacks\n",
    "# Change the learning rate by a factor when the performance doesn't increase for 10 epochs\n",
    "reduce_lr_on_plateau = ReduceLROnPlateau(\n",
    "                                         monitor='acc',\n",
    "                                         factor=0.1,\n",
    "                                         patience=10,\n",
    "                                         verbose=0,\n",
    "                                         mode='auto',\n",
    "                                         min_delta=0.01,\n",
    "                                         min_lr=0.000001)\n",
    "# save the best model based on accuracy \n",
    "MODEL_SAVE_FILE_PATH = 'deep_fake.hdf5'\n",
    "model_check_point = ModelCheckpoint(\n",
    "                                    MODEL_SAVE_FILE_PATH,\n",
    "                                    monitor='acc',\n",
    "                                    verbose=0,\n",
    "                                    save_best_only=True,\n",
    "                                    mode='max',\n",
    "                                    period=1\n",
    "                                    )\n",
    "# Early stopping when the model performance doesn't increase for 15 epochs\n",
    "earlystopping = EarlyStopping(monitor='acc', mode='max', verbose=1, patience=15)\n",
    "\n",
    "history = model.fit(\n",
    "                    input_to_model,\n",
    "                    label,\n",
    "                    epochs=200,\n",
    "                    batch_size=16,\n",
    "                    verbose=1,\n",
    "                    callbacks=[reduce_lr_on_plateau, model_check_point, earlystopping]\n",
    "                    )"
   ]
  },
  {
   "cell_type": "markdown",
   "metadata": {},
   "source": [
    "Let's plot details of our training."
   ]
  },
  {
   "cell_type": "code",
   "execution_count": 24,
   "metadata": {},
   "outputs": [
    {
     "data": {
      "image/png": "[encoded data removed]",
      "text/plain": [
       "<Figure size 432x288 with 1 Axes>"
      ]
     },
     "metadata": {
      "needs_background": "light"
     },
     "output_type": "display_data"
    },
    {
     "data": {
      "image/png": "[encoded data removed]",
      "text/plain": [
       "<Figure size 432x288 with 1 Axes>"
      ]
     },
     "metadata": {
      "needs_background": "light"
     },
     "output_type": "display_data"
    }
   ],
   "source": [
    "acc = history.history['acc']\n",
    "loss = history.history['loss']\n",
    "epochs = range(len(acc))\n",
    "plt.plot(epochs, acc, 'b', label='Training accuracy')\n",
    "plt.title('Training accuracy')\n",
    "plt.figure()\n",
    "plt.plot(epochs, loss, 'b', label='Training Loss')\n",
    "plt.title('Training loss')\n",
    "plt.legend()\n",
    "plt.show()"
   ]
  },
  {
   "cell_type": "markdown",
   "metadata": {},
   "source": [
    "# Generating fake comments\n",
    "\n",
    "To generate fake tweets, we use the below architecture:\n",
    "\n",
    "![](imgs/text_gen.png)\n",
    "\n",
    "The idea is to give one or more starting token(s) to our model, and generate the next tokens until we generate `.`.\n",
    "\n",
    "At each step, we select the token with the highest probability as our next token and generate the next one similartly using `model.predict_classes()`. \n",
    "\n",
    "**Note:** The model takes as input the activation `a` from the previous state of the LSTM and the token chosen, forward propagate by one step, and get a new output activation `a`. The new activation `a` can then be used to generate the output, using the `dense` layer with `softmax` activation as before. \n",
    "\n"
   ]
  },
  {
   "cell_type": "markdown",
   "metadata": {},
   "source": [
    "**Task 2**: Implement `generate()`. \n",
    "\n",
    "***"
   ]
  },
  {
   "cell_type": "code",
   "execution_count": 28,
   "metadata": {},
   "outputs": [
    {
     "name": "stdout",
     "output_type": "stream",
     "text": [
      "WARNING:tensorflow:From /home/rohan/works/env/lib/python3.6/site-packages/tensorflow/python/ops/init_ops.py:97: calling GlorotUniform.__init__ (from tensorflow.python.ops.init_ops) with dtype is deprecated and will be removed in a future version.\n",
      "Instructions for updating:\n",
      "Call initializer instance with the dtype argument instead of passing it to the constructor\n",
      "WARNING:tensorflow:From /home/rohan/works/env/lib/python3.6/site-packages/tensorflow/python/ops/init_ops.py:97: calling Orthogonal.__init__ (from tensorflow.python.ops.init_ops) with dtype is deprecated and will be removed in a future version.\n",
      "Instructions for updating:\n",
      "Call initializer instance with the dtype argument instead of passing it to the constructor\n",
      "WARNING:tensorflow:From /home/rohan/works/env/lib/python3.6/site-packages/tensorflow/python/ops/init_ops.py:97: calling Zeros.__init__ (from tensorflow.python.ops.init_ops) with dtype is deprecated and will be removed in a future version.\n",
      "Instructions for updating:\n",
      "Call initializer instance with the dtype argument instead of passing it to the constructor\n"
     ]
    }
   ],
   "source": [
    "# load best saved model\n",
    "def tf_load_saved_best_model():\n",
    "\t\"\"\"\n",
    "\tOutput:\n",
    "\t\tReturns best performing model saved\n",
    "\t\"\"\"\n",
    "\treturn load_model(MODEL_SAVE_FILE_PATH)\n",
    "\n",
    "model = tf_load_saved_best_model()"
   ]
  },
  {
   "cell_type": "code",
   "execution_count": 29,
   "metadata": {},
   "outputs": [],
   "source": [
    "#TASK 2\n",
    "# Implement the generate() function\n",
    "\n",
    "def generate(seed_text):\n",
    "    ### START CODE HERE ###\n",
    "    # converting text to list of tokens\n",
    "    next_predicted_token = ''\n",
    "    predicted_sentence_token_list = seed_text.split(' ')\n",
    "    \n",
    "    while next_predicted_token!='.':    # stopping criterion\n",
    "        # word tokenization\n",
    "        seed_token = tokenizer.texts_to_sequences([seed_text])[0]\n",
    "        # padding to max length\n",
    "        seed_token_padded = np.array(pad_sequences([seed_token], maxlen=max_sequence_len, padding='pre'))\n",
    "        # token with highest probability\n",
    "        predicted_token_idx = model.predict_classes(seed_token_padded)[0]  # next predicted token\n",
    "        # get token from index\n",
    "        next_predicted_token = reverse_word_map[predicted_token_idx]\n",
    "        # add token to existing list of tokens\n",
    "        predicted_sentence_token_list.append(next_predicted_token)\n",
    "        # merging tokens to generate sentence\n",
    "        predicted_sentence = ' '.join(predicted_sentence_token_list)\n",
    "        seed_text = predicted_sentence\n",
    "    return predicted_sentence\n",
    "    ### END CODE HERE ### \n"
   ]
  },
  {
   "cell_type": "markdown",
   "metadata": {},
   "source": [
    "**Let's test it:**"
   ]
  },
  {
   "cell_type": "code",
   "execution_count": 30,
   "metadata": {},
   "outputs": [
    {
     "name": "stdout",
     "output_type": "stream",
     "text": [
      "COVID19 virus survives on surfaces for 7 days .\n",
      "COVID19 is the deadliest virus known to humans .\n",
      "The usa is a fever — indefinitely .\n",
      "The new virus test was a bad test .\n",
      "China has to protect people against the covid19 disease .\n"
     ]
    }
   ],
   "source": [
    "print(generate(\"COVID19 virus\"))\n",
    "print(generate(\"COVID19 is the\"))\n",
    "print(generate(\"The usa is\"))\n",
    "print(generate(\"The new virus\"))\n",
    "print(generate(\"China has\"))\n"
   ]
  },
  {
   "cell_type": "markdown",
   "metadata": {},
   "source": [
    "**Let's test it in an interactive mode:**"
   ]
  },
  {
   "cell_type": "code",
   "execution_count": 32,
   "metadata": {},
   "outputs": [
    {
     "name": "stdout",
     "output_type": "stream",
     "text": [
      "Write the beginning of your tweet, the algorithm machine will complete it. Your input is: Covid19\n",
      "Covid19 is just the damn flu . "
     ]
    }
   ],
   "source": [
    "usr_input = input(\"Write the beginning of your tweet, the algorithm machine will complete it. Your input is: \")\n",
    "for w in generate(usr_input).split():    \n",
    "    print(w, end =\" \")\n",
    "    time.sleep(0.4)\n"
   ]
  },
  {
   "cell_type": "markdown",
   "metadata": {},
   "source": [
    "# Generating text by sampling\n",
    "\n",
    "The previous part is generating text by choosing the token with the highest probability. Now, we will generate text by sampling as shown in the architecture below:\n",
    "\n",
    "![](imgs/text_gen_sample.png)\n",
    "\n",
    "\n",
    "**TASK 3:** Implement the `generate_sample()` function. To sample a token from the output at each timestep, you need to use the following two functions:\n",
    "- `model.predict_proba()`: To get probabilities from the output layer.\n",
    "- `np.random.choice()`: To sample from the token list using the probaility array of each token.\n",
    "\n",
    "***"
   ]
  },
  {
   "cell_type": "code",
   "execution_count": 33,
   "metadata": {},
   "outputs": [],
   "source": [
    "#TASK 3\n",
    "# Implement the generate_sample() function\n",
    "MAX_NUMBER_OF_RANDOM_TOKENS = 20\n",
    "def generate_sample(seed_text):\n",
    "   ### START CODE HERE ### \n",
    "   # converting text to list of tokens\n",
    "    next_predicted_token = ''\n",
    "    predicted_sentence_token_list = seed_text.split(' ')\n",
    "    random_token_count = 0\n",
    "    while next_predicted_token!='.' and random_token_count<=MAX_NUMBER_OF_RANDOM_TOKENS:    # stopping criterion\n",
    "        # word tokenization\n",
    "        seed_token = tokenizer.texts_to_sequences([seed_text])[0]\n",
    "        # padding to max length\n",
    "        seed_token_padded = np.array(pad_sequences([seed_token], maxlen=max_sequence_len, padding='pre'))\n",
    "        # token with highest probability\n",
    "        predicted_token_prob_dist = model.predict_proba(seed_token_padded)[0]  # next predicted token probability distribution\n",
    "        # get random token sample from probability distribution\n",
    "        sampled_token_probability = np.random.choice(predicted_token_prob_dist)\n",
    "        sampled_token_idx = np.where(predicted_token_prob_dist==sampled_token_probability)[0][0]\n",
    "        # get token from index\n",
    "        next_sampled_token = reverse_word_map[sampled_token_idx]\n",
    "        # add token to existing list of tokens\n",
    "        predicted_sentence_token_list.append(next_sampled_token)\n",
    "        # merging tokens to generate sentence\n",
    "        predicted_sentence = ' '.join(predicted_sentence_token_list)\n",
    "        seed_text = predicted_sentence\n",
    "        random_token_count += 1\n",
    "    # adding a fullstop at last if not present for end of sentence.\n",
    "    if predicted_sentence[-1]!='.':\n",
    "        predicted_sentence = predicted_sentence+'.'\n",
    "    return predicted_sentence\n",
    "    ### END CODE HERE ### "
   ]
  },
  {
   "cell_type": "code",
   "execution_count": 34,
   "metadata": {},
   "outputs": [
    {
     "name": "stdout",
     "output_type": "stream",
     "text": [
      "COVID19 virus jail you power ? during tune may virus yourself positive help doused required akira' vegetable enter 2008 flushes were 16 on.\n"
     ]
    }
   ],
   "source": [
    "print(generate_sample(\"COVID19 virus\"))"
   ]
  },
  {
   "cell_type": "markdown",
   "metadata": {},
   "source": [
    "**Let's test it in an interactive mode:**"
   ]
  },
  {
   "cell_type": "code",
   "execution_count": 35,
   "metadata": {},
   "outputs": [
    {
     "name": "stdout",
     "output_type": "stream",
     "text": [
      "Write the beginning of your tweet, the algorithm machine will complete it. Your input is: Covid19\n",
      "Covid19 national foundation minutes full reported main south proliferation wall apology through hard exception o'mara triggering founder laurent instead stop sesame 2004. "
     ]
    }
   ],
   "source": [
    "usr_input = input(\"Write the beginning of your tweet, the algorithm machine will complete it. Your input is: \")\n",
    "for w in generate_sample(usr_input).split():    \n",
    "    print(w, end =\" \")\n",
    "    time.sleep(0.4)\n"
   ]
  },
  {
   "cell_type": "markdown",
   "metadata": {},
   "source": [
    "# Congratulations!\n",
    "\n",
    "You've come to the end of this assignment, and have seen how to build a deep learning architecture that generate fake tweets/comments. \n",
    "\n",
    "Congratulations on finishing this notebook! \n",
    "\n"
   ]
  }
 ],
 "metadata": {
  "accelerator": "GPU",
  "colab": {
   "name": "Shakespeare_generatoripynb",
   "provenance": []
  },
  "kernelspec": {
   "display_name": "Python 3",
   "language": "python",
   "name": "python3"
  },
  "language_info": {
   "codemirror_mode": {
    "name": "ipython",
    "version": 3
   },
   "file_extension": ".py",
   "mimetype": "text/x-python",
   "name": "python",
   "nbconvert_exporter": "python",
   "pygments_lexer": "ipython3",
   "version": "3.6.9"
  }
 },
 "nbformat": 4,
 "nbformat_minor": 1
}
