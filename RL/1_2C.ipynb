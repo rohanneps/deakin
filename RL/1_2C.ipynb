{
  "nbformat": 4,
  "nbformat_minor": 0,
  "metadata": {
    "colab": {
      "name": "RL_1.1C.ipynb",
      "provenance": [],
      "collapsed_sections": []
    },
    "kernelspec": {
      "name": "python3",
      "display_name": "Python 3"
    }
  },
  "cells": [
    {
      "cell_type": "code",
      "metadata": {
        "colab": {
          "base_uri": "https://localhost:8080/"
        },
        "id": "DMi-CvuaZfJD",
        "outputId": "4865f399-ef24-4a55-beab-cbcad94471e5"
      },
      "source": [
        "2# install required system dependencies\n",
        "!apt-get install -y xvfb x11-utils \n",
        "!apt-get install x11-utils > /dev/null 2>&1\n",
        "!pip install PyVirtualDisplay==2.0.* \\\n",
        "PyOpenGL==3.1.* \\\n",
        "PyOpenGL-accelerate==3.1.* \\\n",
        "gym[box2d]==0.17.* \n",
        "!pip install pyglet"
      ],
      "execution_count": 1,
      "outputs": [
        {
          "output_type": "stream",
          "text": [
            "Reading package lists... Done\n",
            "Building dependency tree       \n",
            "Reading state information... Done\n",
            "The following additional packages will be installed:\n",
            "  libxxf86dga1\n",
            "Suggested packages:\n",
            "  mesa-utils\n",
            "The following NEW packages will be installed:\n",
            "  libxxf86dga1 x11-utils xvfb\n",
            "0 upgraded, 3 newly installed, 0 to remove and 29 not upgraded.\n",
            "Need to get 993 kB of archives.\n",
            "After this operation, 2,981 kB of additional disk space will be used.\n",
            "Get:1 http://archive.ubuntu.com/ubuntu bionic/main amd64 libxxf86dga1 amd64 2:1.1.4-1 [13.7 kB]\n",
            "Get:2 http://archive.ubuntu.com/ubuntu bionic/main amd64 x11-utils amd64 7.7+3build1 [196 kB]\n",
            "Get:3 http://archive.ubuntu.com/ubuntu bionic-updates/universe amd64 xvfb amd64 2:1.19.6-1ubuntu4.8 [784 kB]\n",
            "Fetched 993 kB in 1s (866 kB/s)\n",
            "Selecting previously unselected package libxxf86dga1:amd64.\n",
            "(Reading database ... 160975 files and directories currently installed.)\n",
            "Preparing to unpack .../libxxf86dga1_2%3a1.1.4-1_amd64.deb ...\n",
            "Unpacking libxxf86dga1:amd64 (2:1.1.4-1) ...\n",
            "Selecting previously unselected package x11-utils.\n",
            "Preparing to unpack .../x11-utils_7.7+3build1_amd64.deb ...\n",
            "Unpacking x11-utils (7.7+3build1) ...\n",
            "Selecting previously unselected package xvfb.\n",
            "Preparing to unpack .../xvfb_2%3a1.19.6-1ubuntu4.8_amd64.deb ...\n",
            "Unpacking xvfb (2:1.19.6-1ubuntu4.8) ...\n",
            "Setting up xvfb (2:1.19.6-1ubuntu4.8) ...\n",
            "Setting up libxxf86dga1:amd64 (2:1.1.4-1) ...\n",
            "Setting up x11-utils (7.7+3build1) ...\n",
            "Processing triggers for man-db (2.8.3-2ubuntu0.1) ...\n",
            "Processing triggers for libc-bin (2.27-3ubuntu1.2) ...\n",
            "/sbin/ldconfig.real: /usr/local/lib/python3.7/dist-packages/ideep4py/lib/libmkldnn.so.0 is not a symbolic link\n",
            "\n",
            "Collecting PyVirtualDisplay==2.0.*\n",
            "  Downloading https://files.pythonhosted.org/packages/ad/05/6568620fed440941b704664b9cfe5f836ad699ac7694745e7787fbdc8063/PyVirtualDisplay-2.0-py2.py3-none-any.whl\n",
            "Requirement already satisfied: PyOpenGL==3.1.* in /usr/local/lib/python3.7/dist-packages (3.1.5)\n",
            "Collecting PyOpenGL-accelerate==3.1.*\n",
            "\u001b[?25l  Downloading https://files.pythonhosted.org/packages/a2/3c/f42a62b7784c04b20f8b88d6c8ad04f4f20b0767b721102418aad94d8389/PyOpenGL-accelerate-3.1.5.tar.gz (538kB)\n",
            "\u001b[K     |████████████████████████████████| 542kB 8.9MB/s \n",
            "\u001b[?25hRequirement already satisfied: gym[box2d]==0.17.* in /usr/local/lib/python3.7/dist-packages (0.17.3)\n",
            "Collecting EasyProcess\n",
            "  Downloading https://files.pythonhosted.org/packages/48/3c/75573613641c90c6d094059ac28adb748560d99bd27ee6f80cce398f404e/EasyProcess-0.3-py2.py3-none-any.whl\n",
            "Requirement already satisfied: scipy in /usr/local/lib/python3.7/dist-packages (from gym[box2d]==0.17.*) (1.4.1)\n",
            "Requirement already satisfied: cloudpickle<1.7.0,>=1.2.0 in /usr/local/lib/python3.7/dist-packages (from gym[box2d]==0.17.*) (1.3.0)\n",
            "Requirement already satisfied: numpy>=1.10.4 in /usr/local/lib/python3.7/dist-packages (from gym[box2d]==0.17.*) (1.19.5)\n",
            "Requirement already satisfied: pyglet<=1.5.0,>=1.4.0 in /usr/local/lib/python3.7/dist-packages (from gym[box2d]==0.17.*) (1.5.0)\n",
            "Collecting box2d-py~=2.3.5; extra == \"box2d\"\n",
            "\u001b[?25l  Downloading https://files.pythonhosted.org/packages/87/34/da5393985c3ff9a76351df6127c275dcb5749ae0abbe8d5210f06d97405d/box2d_py-2.3.8-cp37-cp37m-manylinux1_x86_64.whl (448kB)\n",
            "\u001b[K     |████████████████████████████████| 450kB 14.1MB/s \n",
            "\u001b[?25hRequirement already satisfied: future in /usr/local/lib/python3.7/dist-packages (from pyglet<=1.5.0,>=1.4.0->gym[box2d]==0.17.*) (0.16.0)\n",
            "Building wheels for collected packages: PyOpenGL-accelerate\n",
            "  Building wheel for PyOpenGL-accelerate (setup.py) ... \u001b[?25l\u001b[?25hdone\n",
            "  Created wheel for PyOpenGL-accelerate: filename=PyOpenGL_accelerate-3.1.5-cp37-cp37m-linux_x86_64.whl size=1599120 sha256=b9bba65b42d72bccd7000a7b968220933d031592893ac62e2ee6204a93031ba0\n",
            "  Stored in directory: /root/.cache/pip/wheels/bd/21/77/99670ceca25fddb3c2b60a7ae44644b8253d1006e8ec417bcc\n",
            "Successfully built PyOpenGL-accelerate\n",
            "Installing collected packages: EasyProcess, PyVirtualDisplay, PyOpenGL-accelerate, box2d-py\n",
            "Successfully installed EasyProcess-0.3 PyOpenGL-accelerate-3.1.5 PyVirtualDisplay-2.0 box2d-py-2.3.8\n",
            "Requirement already satisfied: pyglet in /usr/local/lib/python3.7/dist-packages (1.5.0)\n",
            "Requirement already satisfied: future in /usr/local/lib/python3.7/dist-packages (from pyglet) (0.16.0)\n"
          ],
          "name": "stdout"
        }
      ]
    },
    {
      "cell_type": "code",
      "metadata": {
        "colab": {
          "base_uri": "https://localhost:8080/"
        },
        "id": "QPkodQ3lZgf2",
        "outputId": "4a025f18-0304-428a-ef56-cf712897edfa"
      },
      "source": [
        "!rm ./vid/*.*"
      ],
      "execution_count": 2,
      "outputs": [
        {
          "output_type": "stream",
          "text": [
            "rm: cannot remove './vid/*.*': No such file or directory\n"
          ],
          "name": "stdout"
        }
      ]
    },
    {
      "cell_type": "code",
      "metadata": {
        "id": "Hzj7-CNqZla8"
      },
      "source": [
        "from gym import Env, spaces\n",
        "import numpy as np\n",
        "import random"
      ],
      "execution_count": 3,
      "outputs": []
    },
    {
      "cell_type": "code",
      "metadata": {
        "id": "Gf6yiTraaCc4"
      },
      "source": [
        "class SteeringWheelEnv(Env):\n",
        "  \"\"\"\n",
        "  Environment to replicate automated steering of the wheel in an environment (road)\n",
        "  \"\"\"\n",
        "  def __init__(self):\n",
        "\n",
        "    # The first set of action is the degree of turn\n",
        "      # -1 indicates complete left turn, 1 indicates complete right turn and 0 indicates wheel is aligned centered\n",
        "    # The second set of action is change in speed of the vehicle.\n",
        "      # Here we will consider 0 as speed reduction and 1 as speed increase \n",
        "    #self.action_space = spaces.MultiDiscrete([3,2])        \n",
        "    self.action_space = spaces.Tuple((\n",
        "                                        spaces.Box(low=np.array([-1]), high=np.array([1])),\n",
        "                                        spaces.Discrete(3)\n",
        "                                      ))\n",
        "\n",
        "\n",
        "    # degree of turn of the road from left(negative) to right(positve)\n",
        "    # self.observation_space = spaces.Box(low=np.array([-1]), high=np.array([1]))    \n",
        "    \n",
        "    # The environment returns \n",
        "      # (Continuous)the amount of turn required for the road ahead. Here -1 indicates left turn, 0 indicates straight road and 1 indicating right turn.\n",
        "      # (Continuous)the position of the vehicle with respect to the current road lane. -1 indicating extreme left, 0 for center and 1 for extreme right\n",
        "    self.observation_space = spaces.Tuple((\n",
        "                                            spaces.Box(low=np.array([-1]), high=np.array([1])),\n",
        "                                            spaces.Box(low=np.array([-1]), high=np.array([1]))\n",
        "                                          ))\n",
        "\n",
        "    # intial randomized turn of the road\n",
        "    self.road_turn = random.uniform(-1,1)\n",
        "    # intial position of vehicle on the orad\n",
        "    self.road_position = random.uniform(-1,1)\n",
        "    # amount of turn ± from 0 that will be considered almost straight road. Used by the state road_turn\n",
        "    self.turn_margin_to_center = 0.2\n",
        "\n",
        "    # duration of drive\n",
        "    self.drive_duration = 100   # seconds\n",
        "\n",
        "    # margin of error accepted for the vehicle to be considered aligned with the road (center). Used by the state road_position\n",
        "    self.vehicle_road_center_threshold = 0.4\n",
        "\n",
        "\n",
        "  def step(self, action):\n",
        "    # decrease time step\n",
        "    self.drive_duration -= 1\n",
        "\n",
        "    action_turn, action_speed = action        # float, integer\n",
        "\n",
        "    # get updated road postion of vehicle after action execution\n",
        "    self.road_position = self.get_updated_road_position(self.road_position, self.road_turn, action_turn, action_speed)\n",
        "    # assigning default reward to action\n",
        "    reward = -1\n",
        "\n",
        "    if self.road_turn < -self.turn_margin_to_center or self.road_turn > self.turn_margin_to_center:     # road is turning left or right\n",
        "      # when turning need to reduce speed\n",
        "      if action_speed == 0:\n",
        "        if self.road_position>=-self.vehicle_road_center_threshold and self.road_position<=self.vehicle_road_center_threshold:\n",
        "          # wheel and road turn are aligned straight. The vehicle is almost center of the road\n",
        "          reward = 1\n",
        "    else:\n",
        "      # for straight road\n",
        "      if action_turn >= -self.turn_margin_to_center and action_turn <= self.turn_margin_to_center:\n",
        "          # wheel and road turn are aligned straight. The vehicle is almost center of the road\n",
        "          if self.road_position>= -self.vehicle_road_center_threshold and self.road_position<= self.vehicle_road_center_threshold:\n",
        "            reward = 1\n",
        "    \n",
        "    # get next state after action\n",
        "    self.road_turn, self.road_position = self.get_next_state(self.road_turn, self.road_position)\n",
        "    # check if task is done     \n",
        "    if self.drive_duration >0:\n",
        "      task_done = False\n",
        "    else:\n",
        "      task_done = True\n",
        "\n",
        "    return (self.road_turn, self.road_position), reward, task_done, {}\n",
        "\n",
        "  \n",
        "  def get_updated_road_position(self, road_position, road_turn, action_turn, action_speed):\n",
        "    \"\"\"\n",
        "    Return the updated vehicle road position based on turning and speed change action of the agent\n",
        "    \"\"\"\n",
        "    \n",
        "    # NOTE: Probability is used in effect of road turn in position in order to simulate real-world scenarios(noise) \n",
        "    # like misjudged wheel turn, obstacles on road, etc\n",
        "    \n",
        "\n",
        "    update_margin = 0.0\n",
        "    # For left turning road\n",
        "    if road_turn < -self.turn_margin_to_center:    # this means the road_turn is pushing towards -1 (left)\n",
        "      # For low speed\n",
        "      if action_speed == 0:\n",
        "        if action_turn < -self.turn_margin_to_center: \n",
        "          # vehicle also turning left\n",
        "          update_margin = action_turn -road_turn           \n",
        "        elif action_turn > self.turn_margin_to_center:       \n",
        "          # for vehicle turning right in a left turning road\n",
        "          update_margin = (-1*road_turn) + action_turn\n",
        "        else:                     \n",
        "          # for vehicle going straight in a left turning road\n",
        "          update_margin = (-1*road_turn)                # road_turn is negative(towards left) and hence the vehicle position is displaced towards the right (positve)\n",
        "      if action_speed == 1:\n",
        "        # For higher speed, the effect of turn is less\n",
        "        update_margin /= 2 \n",
        "\n",
        "    # For right turning road\n",
        "    elif road_turn > self.turn_margin_to_center:       # this means the road_turn is pushing towards 1 (right)\n",
        "      # For low speed\n",
        "      if action_speed == 0:\n",
        "        if action_turn > self.turn_margin_to_center:       \n",
        "        # vehicle also turning right\n",
        "          update_margin = action_turn - road_turn           \n",
        "        elif action_turn < -self.turn_margin_to_center:    \n",
        "        # for vehicle turning left in a right turning road\n",
        "          update_margin = (-1*road_turn) + action_turn\n",
        "        else:                    \n",
        "        # for vehicle going straight in a right turning road\n",
        "          update_margin = (-1*road_turn)                # road_turn is positive(towards right) and hence the vehicle position is displaced towards the left (negative)\n",
        "      if action_speed == 1:\n",
        "        # For higher speed, the effect of turn is less\n",
        "        update_margin /= 2 \n",
        "    \n",
        "    # For straight road\n",
        "    else:\n",
        "      if action_turn < -self.turn_margin_to_center: \n",
        "        # vehicle turning left\n",
        "        update_margin = action_turn - road_turn             # vehicle moves towards left side of the lane (negative)\n",
        "      elif action_turn > self.turn_margin_to_center:\n",
        "        # vehicle turning right\n",
        "        update_margin = action_turn - road_turn             # vehicle moves towards right side of the lane (positive)\n",
        "      else:\n",
        "        update_margin = 0.0\n",
        "\n",
        "    if update_margin:\n",
        "      road_position += update_margin\n",
        "    return road_position\n",
        "\n",
        "\n",
        "  def get_lower_and_upper_limit(self, val):\n",
        "    \"\"\"\n",
        "    Get next road turn range\n",
        "    \"\"\"\n",
        "    lower_limit = -1\n",
        "    upper_limit = 1\n",
        "    if val - self.turn_margin_to_center>-1:\n",
        "      lower_limit = val - self.turn_margin_to_center\n",
        "    if val + self.turn_margin_to_center<1:\n",
        "      upper_limit = val + self.turn_margin_to_center\n",
        "    return lower_limit, upper_limit\n",
        "\n",
        "\n",
        "  def get_next_state(self, road_turn, road_position):\n",
        "    \"\"\"\n",
        "    Get next state of environment given the current state.\n",
        "    \"\"\"\n",
        "    lower_limit, upper_limit = self.get_lower_and_upper_limit(road_turn)\n",
        "    next_road_turn = random.uniform(lower_limit, upper_limit)\n",
        "\n",
        "    if next_road_turn < -self.turn_margin_to_center:\n",
        "      # For left\n",
        "      road_position += next_road_turn\n",
        "    elif next_road_turn > self.turn_margin_to_center:\n",
        "      road_position += next_road_turn\n",
        "    else:\n",
        "      road_position = road_position   # no change for straight road\n",
        "\n",
        "    if road_position<-1:\n",
        "      road_position = -1\n",
        "    if road_position >1:\n",
        "      road_position = 1\n",
        "    return next_road_turn, road_position\n",
        "\n",
        "\n",
        "  def reset(self):\n",
        "    \"\"\"\n",
        "    Reset environment states\n",
        "    \"\"\"\n",
        "    # intial randomized turn of the road\n",
        "    self.road_turn = random.uniform(-1,1)\n",
        "    # intial position of vehicle on the orad\n",
        "    self.road_position = random.uniform(-1,1)\n",
        "    \n",
        "    # reset duration of drive\n",
        "    self.drive_duration = 100   # seconds\n",
        "    return self.road_turn, self.road_position\n"
      ],
      "execution_count": 79,
      "outputs": []
    },
    {
      "cell_type": "code",
      "metadata": {
        "id": "CA0VSZ2MP_Bs",
        "colab": {
          "base_uri": "https://localhost:8080/"
        },
        "outputId": "c0a6d750-a271-4414-e3ba-0a5da1cb1a7b"
      },
      "source": [
        "env = SteeringWheelEnv()"
      ],
      "execution_count": 80,
      "outputs": [
        {
          "output_type": "stream",
          "text": [
            "/usr/local/lib/python3.7/dist-packages/gym/logger.py:30: UserWarning: \u001b[33mWARN: Box bound precision lowered by casting to float32\u001b[0m\n",
            "  warnings.warn(colorize('%s: %s'%('WARN', msg % args), 'yellow'))\n"
          ],
          "name": "stderr"
        }
      ]
    },
    {
      "cell_type": "code",
      "metadata": {
        "id": "lH3YbHd4ga46",
        "colab": {
          "base_uri": "https://localhost:8080/"
        },
        "outputId": "b5e6b2fd-38fc-4a29-aac7-c2e34b1f126b"
      },
      "source": [
        "print('Sample observation from environment:',env.observation_space.sample())\n",
        "# The first param is the turn of road turn and second is the position of vehicle on the road"
      ],
      "execution_count": 81,
      "outputs": [
        {
          "output_type": "stream",
          "text": [
            "Sample observation from environment: (array([-0.24665473], dtype=float32), array([0.5833879], dtype=float32))\n"
          ],
          "name": "stdout"
        }
      ]
    },
    {
      "cell_type": "code",
      "metadata": {
        "colab": {
          "base_uri": "https://localhost:8080/"
        },
        "id": "PUJMdZO5gocN",
        "outputId": "21c5bf6f-8ec0-4906-c17f-77f1f8bdf706"
      },
      "source": [
        "# testing random actions on the environment\n",
        "for epoch in range(10):\n",
        "  obs = env.reset()\n",
        "  done = False\n",
        "  total_reward = 0\n",
        "  while not done:\n",
        "    obs, reward, done, i = env.step(env.action_space.sample())\n",
        "    total_reward += reward\n",
        "  print('Test: {}, Total Reward Collected: {}' .format(epoch, total_reward))"
      ],
      "execution_count": 82,
      "outputs": [
        {
          "output_type": "stream",
          "text": [
            "Test: 0, Total Reward Collected: -86\n",
            "Test: 1, Total Reward Collected: -84\n",
            "Test: 2, Total Reward Collected: -82\n",
            "Test: 3, Total Reward Collected: -82\n",
            "Test: 4, Total Reward Collected: -74\n",
            "Test: 5, Total Reward Collected: -80\n",
            "Test: 6, Total Reward Collected: -84\n",
            "Test: 7, Total Reward Collected: -82\n",
            "Test: 8, Total Reward Collected: -86\n",
            "Test: 9, Total Reward Collected: -64\n"
          ],
          "name": "stdout"
        }
      ]
    },
    {
      "cell_type": "code",
      "metadata": {
        "id": "T_dEmUXBjZBi"
      },
      "source": [
        "# Now we aim to create an optimal policy based on the observation\n",
        "def policy(obs):\n",
        "  # here observation is the road condition and position of vehicle in road\n",
        "  road_turn, vehicle_road_pos = obs\n",
        "  turn = 0.0    # default action is to go straight\n",
        "  speed = 1   # default speed action\n",
        "  if road_turn < 0 or road_turn >0: \n",
        "    # For left turning road or right turning road\n",
        "    speed = 0\n",
        "    turn = road_turn-vehicle_road_pos\n",
        "  else:\n",
        "    # going straight\n",
        "    turn = 0.0\n",
        "  return turn, speed"
      ],
      "execution_count": 83,
      "outputs": []
    },
    {
      "cell_type": "code",
      "metadata": {
        "colab": {
          "base_uri": "https://localhost:8080/"
        },
        "id": "dm0Pt-L8acwz",
        "outputId": "72a7abac-f737-410b-ece3-bc1a7e4afbbf"
      },
      "source": [
        "# testing implemented agent's policy on the environment\n",
        "o = env.reset()\n",
        "done = False\n",
        "total_reward = 0\n",
        "while not done:\n",
        "  action = policy(o)\n",
        "  o, reward, done, i = env.step(action)\n",
        "  total_reward += reward\n",
        "print('Total Reward Collected: {}' .format(total_reward))"
      ],
      "execution_count": 84,
      "outputs": [
        {
          "output_type": "stream",
          "text": [
            "Total Reward Collected: 98\n"
          ],
          "name": "stdout"
        }
      ]
    },
    {
      "cell_type": "code",
      "metadata": {
        "id": "reKTQXV1ai6y"
      },
      "source": [
        ""
      ],
      "execution_count": null,
      "outputs": []
    }
  ]
}