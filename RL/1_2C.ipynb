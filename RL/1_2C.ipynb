{
  "nbformat": 4,
  "nbformat_minor": 0,
  "metadata": {
    "colab": {
      "name": "RL_1.1C.ipynb",
      "provenance": [],
      "collapsed_sections": []
    },
    "kernelspec": {
      "name": "python3",
      "display_name": "Python 3"
    }
  },
  "cells": [
    {
      "cell_type": "code",
      "metadata": {
        "colab": {
          "base_uri": "https://localhost:8080/"
        },
        "id": "DMi-CvuaZfJD",
        "outputId": "23f67cf3-2243-402e-e0ad-ce8044816927"
      },
      "source": [
        "# install required system dependencies\n",
        "!apt-get install -y xvfb x11-utils \n",
        "!apt-get install x11-utils > /dev/null 2>&1\n",
        "!pip install PyVirtualDisplay==2.0.* \\\n",
        "PyOpenGL==3.1.* \\\n",
        "PyOpenGL-accelerate==3.1.* \\\n",
        "gym[box2d]==0.17.* \n",
        "!pip install pyglet"
      ],
      "execution_count": null,
      "outputs": [
        {
          "output_type": "stream",
          "text": [
            "Reading package lists... Done\n",
            "Building dependency tree       \n",
            "Reading state information... Done\n",
            "The following additional packages will be installed:\n",
            "  libxxf86dga1\n",
            "Suggested packages:\n",
            "  mesa-utils\n",
            "The following NEW packages will be installed:\n",
            "  libxxf86dga1 x11-utils xvfb\n",
            "0 upgraded, 3 newly installed, 0 to remove and 29 not upgraded.\n",
            "Need to get 993 kB of archives.\n",
            "After this operation, 2,981 kB of additional disk space will be used.\n",
            "Get:1 http://archive.ubuntu.com/ubuntu bionic/main amd64 libxxf86dga1 amd64 2:1.1.4-1 [13.7 kB]\n",
            "Get:2 http://archive.ubuntu.com/ubuntu bionic/main amd64 x11-utils amd64 7.7+3build1 [196 kB]\n",
            "Get:3 http://archive.ubuntu.com/ubuntu bionic-updates/universe amd64 xvfb amd64 2:1.19.6-1ubuntu4.8 [784 kB]\n",
            "Fetched 993 kB in 1s (785 kB/s)\n",
            "Selecting previously unselected package libxxf86dga1:amd64.\n",
            "(Reading database ... 160975 files and directories currently installed.)\n",
            "Preparing to unpack .../libxxf86dga1_2%3a1.1.4-1_amd64.deb ...\n",
            "Unpacking libxxf86dga1:amd64 (2:1.1.4-1) ...\n",
            "Selecting previously unselected package x11-utils.\n",
            "Preparing to unpack .../x11-utils_7.7+3build1_amd64.deb ...\n",
            "Unpacking x11-utils (7.7+3build1) ...\n",
            "Selecting previously unselected package xvfb.\n",
            "Preparing to unpack .../xvfb_2%3a1.19.6-1ubuntu4.8_amd64.deb ...\n",
            "Unpacking xvfb (2:1.19.6-1ubuntu4.8) ...\n",
            "Setting up xvfb (2:1.19.6-1ubuntu4.8) ...\n",
            "Setting up libxxf86dga1:amd64 (2:1.1.4-1) ...\n",
            "Setting up x11-utils (7.7+3build1) ...\n",
            "Processing triggers for man-db (2.8.3-2ubuntu0.1) ...\n",
            "Processing triggers for libc-bin (2.27-3ubuntu1.2) ...\n",
            "/sbin/ldconfig.real: /usr/local/lib/python3.7/dist-packages/ideep4py/lib/libmkldnn.so.0 is not a symbolic link\n",
            "\n",
            "Collecting PyVirtualDisplay==2.0.*\n",
            "  Downloading https://files.pythonhosted.org/packages/ad/05/6568620fed440941b704664b9cfe5f836ad699ac7694745e7787fbdc8063/PyVirtualDisplay-2.0-py2.py3-none-any.whl\n",
            "Requirement already satisfied: PyOpenGL==3.1.* in /usr/local/lib/python3.7/dist-packages (3.1.5)\n",
            "Collecting PyOpenGL-accelerate==3.1.*\n",
            "\u001b[?25l  Downloading https://files.pythonhosted.org/packages/a2/3c/f42a62b7784c04b20f8b88d6c8ad04f4f20b0767b721102418aad94d8389/PyOpenGL-accelerate-3.1.5.tar.gz (538kB)\n",
            "\u001b[K     |████████████████████████████████| 542kB 10.1MB/s \n",
            "\u001b[?25hRequirement already satisfied: gym[box2d]==0.17.* in /usr/local/lib/python3.7/dist-packages (0.17.3)\n",
            "Collecting EasyProcess\n",
            "  Downloading https://files.pythonhosted.org/packages/48/3c/75573613641c90c6d094059ac28adb748560d99bd27ee6f80cce398f404e/EasyProcess-0.3-py2.py3-none-any.whl\n",
            "Requirement already satisfied: pyglet<=1.5.0,>=1.4.0 in /usr/local/lib/python3.7/dist-packages (from gym[box2d]==0.17.*) (1.5.0)\n",
            "Requirement already satisfied: numpy>=1.10.4 in /usr/local/lib/python3.7/dist-packages (from gym[box2d]==0.17.*) (1.19.5)\n",
            "Requirement already satisfied: scipy in /usr/local/lib/python3.7/dist-packages (from gym[box2d]==0.17.*) (1.4.1)\n",
            "Requirement already satisfied: cloudpickle<1.7.0,>=1.2.0 in /usr/local/lib/python3.7/dist-packages (from gym[box2d]==0.17.*) (1.3.0)\n",
            "Collecting box2d-py~=2.3.5; extra == \"box2d\"\n",
            "\u001b[?25l  Downloading https://files.pythonhosted.org/packages/87/34/da5393985c3ff9a76351df6127c275dcb5749ae0abbe8d5210f06d97405d/box2d_py-2.3.8-cp37-cp37m-manylinux1_x86_64.whl (448kB)\n",
            "\u001b[K     |████████████████████████████████| 450kB 15.8MB/s \n",
            "\u001b[?25hRequirement already satisfied: future in /usr/local/lib/python3.7/dist-packages (from pyglet<=1.5.0,>=1.4.0->gym[box2d]==0.17.*) (0.16.0)\n",
            "Building wheels for collected packages: PyOpenGL-accelerate\n",
            "  Building wheel for PyOpenGL-accelerate (setup.py) ... \u001b[?25l\u001b[?25hdone\n",
            "  Created wheel for PyOpenGL-accelerate: filename=PyOpenGL_accelerate-3.1.5-cp37-cp37m-linux_x86_64.whl size=1599189 sha256=c4e29bdeb054609a3a183e1f2a641a6db86a52a60312f04eb7e87b7c424767ad\n",
            "  Stored in directory: /root/.cache/pip/wheels/bd/21/77/99670ceca25fddb3c2b60a7ae44644b8253d1006e8ec417bcc\n",
            "Successfully built PyOpenGL-accelerate\n",
            "Installing collected packages: EasyProcess, PyVirtualDisplay, PyOpenGL-accelerate, box2d-py\n",
            "Successfully installed EasyProcess-0.3 PyOpenGL-accelerate-3.1.5 PyVirtualDisplay-2.0 box2d-py-2.3.8\n",
            "Requirement already satisfied: pyglet in /usr/local/lib/python3.7/dist-packages (1.5.0)\n",
            "Requirement already satisfied: future in /usr/local/lib/python3.7/dist-packages (from pyglet) (0.16.0)\n"
          ],
          "name": "stdout"
        }
      ]
    },
    {
      "cell_type": "code",
      "metadata": {
        "colab": {
          "base_uri": "https://localhost:8080/"
        },
        "id": "QPkodQ3lZgf2",
        "outputId": "6501b51f-c048-423c-bd91-62ee5bd8849e"
      },
      "source": [
        "!rm ./vid/*.*"
      ],
      "execution_count": null,
      "outputs": [
        {
          "output_type": "stream",
          "text": [
            "rm: cannot remove './vid/*.*': No such file or directory\n"
          ],
          "name": "stdout"
        }
      ]
    },
    {
      "cell_type": "code",
      "metadata": {
        "id": "Hzj7-CNqZla8"
      },
      "source": [
        "from gym import Env, spaces\n",
        "import numpy as np\n",
        "import random"
      ],
      "execution_count": null,
      "outputs": []
    },
    {
      "cell_type": "code",
      "metadata": {
        "id": "Gf6yiTraaCc4"
      },
      "source": [
        "class SteeringWheelEnv(Env):\n",
        "  \"\"\"\n",
        "  Environment to replicate automated steering of the wheel in an environment (road)\n",
        "  \"\"\"\n",
        "  def __init__(self):\n",
        "\n",
        "    # The first set of action is the degree of turn\n",
        "      # set of actions: turn left, hold, turn right. 0 for left turn, 1 for hold and 2 for right turn \n",
        "    # The second set of action is change in speed of the vehicle.\n",
        "      # Here we will consider 0 as speed reduction and 1 as speed increase \n",
        "    self.action_space = spaces.MultiDiscrete([3,2])        \n",
        "    \n",
        "    # degree of turn of the road from left(negative) to right(positve)\n",
        "    # self.observation_space = spaces.Box(low=np.array([-1]), high=np.array([1]))    \n",
        "    \n",
        "    # The environment returns \n",
        "      # (Discrete)the amount of turn required for the road ahead. Here 0 indicates left turn, 1 indicates straight road and 2 indicating right turn.\n",
        "      # (Continuous)the position of the vehicle with respect to the current road lane. -1 indicating extreme left, 0 for center and 1 for extreme right\n",
        "    self.observation_space = spaces.Tuple((\n",
        "                                            spaces.Discrete(3),\n",
        "                                            spaces.Box(low=np.array([-1]), high=np.array([1]))\n",
        "                                          ))\n",
        "\n",
        "    # intial randomized turn of the road\n",
        "    self.road_turn = random.randint(0,2)\n",
        "    # intial position of vehicle on the orad\n",
        "    self.road_position = random.uniform(-1,1)\n",
        "    \n",
        "    # duration of drive\n",
        "    self.drive_duration = 100   # seconds\n",
        "\n",
        "    # hold previous action\n",
        "    self.prev_action_turn = None\n",
        "    # margin of error accepted for the vehicle to be considered aligned with the road (center)\n",
        "    self.vehicle_road_center_threshold = 0.4\n",
        "\n",
        "\n",
        "  def step(self, action):\n",
        "    # decrease time step\n",
        "    self.drive_duration -= 1\n",
        "\n",
        "    action_turn, action_speed = action\n",
        "\n",
        "    # get updated road postion of vehicle after action execution\n",
        "    self.road_position = self.get_updated_road_position(self.road_position, self.road_turn, action_turn, action_speed)\n",
        "\n",
        "    # assigning default reward to action\n",
        "    reward = -1\n",
        "\n",
        "    if self.road_turn in [0,2]:\n",
        "      # when turning need to reduce speed\n",
        "      if action_speed == 0:\n",
        "        if self.road_turn == action_turn:\n",
        "          # wheel and road turn are aligned by some margin\n",
        "          if self.road_position>= -self.vehicle_road_center_threshold and self.road_position<= self.vehicle_road_center_threshold:\n",
        "            reward = 1\n",
        "    else:\n",
        "      # for straight road\n",
        "      if self.road_turn == action_turn:\n",
        "          # wheel and road turn are aligned straight\n",
        "          if self.road_position>= -self.vehicle_road_center_threshold and self.road_position<= self.vehicle_road_center_threshold:\n",
        "            reward = 1\n",
        "    \n",
        "    # get next state after action\n",
        "    self.road_turn, self.road_position = self.get_next_state(self.road_turn, self.road_position)\n",
        "\n",
        "    # check if task is done     \n",
        "    if self.drive_duration >0:\n",
        "      task_done = False\n",
        "    else:\n",
        "      task_done = True\n",
        "\n",
        "    self.prev_action_turn = action_turn\n",
        "    return (self.road_turn, self.road_position), reward, task_done, {}\n",
        "\n",
        "  \n",
        "  def get_updated_road_position(self, road_position, road_turn, action_turn, action_speed):\n",
        "    \"\"\"\n",
        "    Return the updated vehicle road position based on action\n",
        "    \"\"\"\n",
        "    \n",
        "    # NOTE: Probability is used in effect of road turn in position in order to simulate real-world scenarios(noise) \n",
        "    # like misjudged wheel turn, obstacles on road, etc\n",
        "    \n",
        "    update_margin = None\n",
        "    # For left turning road\n",
        "    if road_turn == 0:\n",
        "      # For low speed\n",
        "      if action_speed == 0:\n",
        "        if road_turn == action_turn: # left turn aligned\n",
        "          if action_turn==self.prev_action_turn:    # previous turn was also left\n",
        "            update_margin = -random.uniform(0.2,0.4)  \n",
        "          else:\n",
        "            update_margin = -random.uniform(0,0.2)\n",
        "        elif action_turn == 2:       # for vehicle turning right in a left turning road\n",
        "          update_margin = random.uniform(0.2,0.4)\n",
        "        else:                     # for vehicle going straight\n",
        "          update_margin = random.uniform(0,0.2)\n",
        "      else:\n",
        "        # For higher speed\n",
        "        update_margin = -random.uniform(0,0.1)\n",
        "\n",
        "    # For right turning road\n",
        "    elif road_turn == 2:\n",
        "      if action_speed == 0:\n",
        "        # For low speed\n",
        "        if road_turn == action_turn:       # right turn aligned\n",
        "          if action_turn==self.prev_action_turn:    # previous turn was also right\n",
        "            update_margin = random.uniform(0.2,0.4)         \n",
        "          else:\n",
        "            update_margin = random.uniform(0,0.2)\n",
        "        elif action_turn == 0:       # for vehicle turning left in a right turning road\n",
        "          update_margin = -random.uniform(0.2,0.4)\n",
        "        else:                     # for vehicle going straight\n",
        "          update_margin = -random.uniform(0,0.2)\n",
        "      else:\n",
        "        # For high speed\n",
        "        update_margin = random.uniform(0,0.1)\n",
        "    \n",
        "    # For straight road\n",
        "    else:\n",
        "      if action_turn==0:\n",
        "        # vehicle turning left\n",
        "        update_margin = -random.uniform(0.0,0.2)\n",
        "      elif action_turn==2:\n",
        "        # vehicle turning right\n",
        "        update_margin = random.uniform(0.0,0.2)\n",
        "      else:\n",
        "        update_margin = 0.0\n",
        "\n",
        "    if update_margin:\n",
        "      road_position += update_margin\n",
        "    return road_position\n",
        "\n",
        "\n",
        "  def get_next_state(self, road_turn, road_position):\n",
        "    \"\"\"\n",
        "    Get next state of environment given the current state.\n",
        "    \"\"\"\n",
        "    next_road_turn = None\n",
        "    if road_turn == 0:\n",
        "      # cannot go from left to right directly\n",
        "      next_road_turn = random.randint(0, 1)\n",
        "    elif road_turn == 1:\n",
        "      next_road_turn = random.randint(0,2)\n",
        "    else:\n",
        "      # cannot go from right to left directly\n",
        "      next_road_turn = random.randint(1,2)\n",
        "\n",
        "    if next_road_turn == 0:\n",
        "      # For left\n",
        "      road_position += random.uniform(0.0, 0.2)\n",
        "    elif next_road_turn == 2:\n",
        "      road_position -= random.uniform(0.0, 0.2)\n",
        "    else:\n",
        "      road_position = road_position   # no change for straight road\n",
        "    return next_road_turn, road_position\n",
        "\n",
        "\n",
        "  def reset(self):\n",
        "    \"\"\"\n",
        "    Reset environment states\n",
        "    \"\"\"\n",
        "    # intial randomized turn of the road\n",
        "    self.road_state = random.randint(0,2)\n",
        "    # intial position of vehicle on the orad\n",
        "    self.road_position = random.uniform(-1,1)\n",
        "    \n",
        "    # reset duration of drive\n",
        "    self.drive_duration = 100   # seconds\n",
        "    return self.road_state, self.road_position\n"
      ],
      "execution_count": null,
      "outputs": []
    },
    {
      "cell_type": "code",
      "metadata": {
        "id": "CA0VSZ2MP_Bs",
        "colab": {
          "base_uri": "https://localhost:8080/"
        },
        "outputId": "7f2b75eb-f03b-40cb-8f82-2d85933f4edb"
      },
      "source": [
        "env = SteeringWheelEnv()"
      ],
      "execution_count": null,
      "outputs": [
        {
          "output_type": "stream",
          "text": [
            "/usr/local/lib/python3.7/dist-packages/gym/logger.py:30: UserWarning: \u001b[33mWARN: Box bound precision lowered by casting to float32\u001b[0m\n",
            "  warnings.warn(colorize('%s: %s'%('WARN', msg % args), 'yellow'))\n"
          ],
          "name": "stderr"
        }
      ]
    },
    {
      "cell_type": "code",
      "metadata": {
        "id": "lH3YbHd4ga46",
        "colab": {
          "base_uri": "https://localhost:8080/"
        },
        "outputId": "6b02f47a-61bc-46ac-908c-66dc092b59c2"
      },
      "source": [
        "print('Sample obsercation from environment:',env.observation_space.sample())\n",
        "# The first param is the turn of road representation and second is the position of vehicle on the road"
      ],
      "execution_count": null,
      "outputs": [
        {
          "output_type": "stream",
          "text": [
            "Sample obsercation from environment: (1, array([0.07008331], dtype=float32))\n"
          ],
          "name": "stdout"
        }
      ]
    },
    {
      "cell_type": "code",
      "metadata": {
        "colab": {
          "base_uri": "https://localhost:8080/"
        },
        "id": "PUJMdZO5gocN",
        "outputId": "509e70c9-2e21-44c6-c93f-09d1829782d6"
      },
      "source": [
        "# testing random actions on the environment\n",
        "for epoch in range(10):\n",
        "  obs = env.reset()\n",
        "  done = False\n",
        "  total_reward = 0\n",
        "  while not done:\n",
        "    obs, reward, done, i = env.step(env.action_space.sample())\n",
        "    total_reward += reward\n",
        "  print('Test: {}, Total Reward Collected: {}' .format(epoch, total_reward))"
      ],
      "execution_count": null,
      "outputs": [
        {
          "output_type": "stream",
          "text": [
            "Test: 0, Total Reward Collected: -82\n",
            "Test: 1, Total Reward Collected: -76\n",
            "Test: 2, Total Reward Collected: -98\n",
            "Test: 3, Total Reward Collected: -62\n",
            "Test: 4, Total Reward Collected: -96\n",
            "Test: 5, Total Reward Collected: -100\n",
            "Test: 6, Total Reward Collected: -100\n",
            "Test: 7, Total Reward Collected: -100\n",
            "Test: 8, Total Reward Collected: -98\n",
            "Test: 9, Total Reward Collected: -98\n"
          ],
          "name": "stdout"
        }
      ]
    },
    {
      "cell_type": "code",
      "metadata": {
        "id": "T_dEmUXBjZBi"
      },
      "source": [
        "# Now we aim to create an optimal policy based on the observation\n",
        "def policy(obs):\n",
        "  # here observation is the road condition and position of vehicle in road\n",
        "  road_turn, vehicle_road_pos = obs\n",
        "  turn = 1    # default action is to go straight\n",
        "  speed = 1   # default speed action\n",
        "\n",
        "  if road_turn == 1:\n",
        "    # going straight\n",
        "    turn = 1\n",
        "  elif road_turn == 0:\n",
        "    # For left turning road\n",
        "    speed = 0\n",
        "    if vehicle_road_pos>0.2:\n",
        "      turn = 0\n",
        "  else:\n",
        "    # For right turning road\n",
        "    if vehicle_road_pos<-0.2:\n",
        "      turn = 2\n",
        "\n",
        "  return turn, speed"
      ],
      "execution_count": null,
      "outputs": []
    },
    {
      "cell_type": "code",
      "metadata": {
        "colab": {
          "base_uri": "https://localhost:8080/"
        },
        "id": "dm0Pt-L8acwz",
        "outputId": "5266c7b5-5743-4272-a7e7-2297cb0090a1"
      },
      "source": [
        "# testing implemented agent's policy on the environment\n",
        "o = env.reset()\n",
        "done = False\n",
        "total_reward = 0\n",
        "while not done:\n",
        "  action = policy(o)\n",
        "  o, reward, done, i = env.step(action)\n",
        "  total_reward += reward\n",
        "print('Total Reward Collected: {}' .format(total_reward))"
      ],
      "execution_count": null,
      "outputs": [
        {
          "output_type": "stream",
          "text": [
            "Total Reward Collected: 18\n"
          ],
          "name": "stdout"
        }
      ]
    },
    {
      "cell_type": "code",
      "metadata": {
        "id": "reKTQXV1ai6y"
      },
      "source": [
        ""
      ],
      "execution_count": null,
      "outputs": []
    }
  ]
}