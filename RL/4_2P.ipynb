{
  "nbformat": 4,
  "nbformat_minor": 0,
  "metadata": {
    "colab": {
      "name": "4_2P.ipynb",
      "provenance": [],
      "collapsed_sections": []
    },
    "kernelspec": {
      "name": "python3",
      "display_name": "Python 3"
    },
    "language_info": {
      "name": "python"
    }
  },
  "cells": [
    {
      "cell_type": "code",
      "metadata": {
        "id": "npLqviPlKw68"
      },
      "source": [
        "import sys\n",
        "import gym\n",
        "import numpy as np\n",
        "import random\n",
        "from collections import defaultdict\n",
        "from mpl_toolkits.mplot3d import Axes3D\n",
        "import matplotlib.pyplot as plt\n",
        "from mpl_toolkits.axes_grid1 import make_axes_locatable"
      ],
      "execution_count": null,
      "outputs": []
    },
    {
      "cell_type": "code",
      "metadata": {
        "id": "fN81pq_CKyj7"
      },
      "source": [
        "env = gym.make('Blackjack-v0')\n",
        "# Number of episodes used by MC control to learn policy\n",
        "NUM_LEARN_EPISODES = 500000\n",
        "# Number of episodes in each experiment\n",
        "NUM_EPISODES_TEST = 1000\n",
        "# Number of experiments\n",
        "NUM_EXPERIMENTS = 50"
      ],
      "execution_count": null,
      "outputs": []
    },
    {
      "cell_type": "code",
      "metadata": {
        "id": "7q_UxwEbK2qx"
      },
      "source": [
        "# Monte Carlo on-policy control using Epsilon-soft method\n",
        "def get_probs(Q_s, epsilon, nA): #nA is no. of actions in the action space\n",
        "    # obtains the action probabilities corresponding to epsilon-greedy policy\n",
        "    policy_s = np.ones(nA) * epsilon / nA\n",
        "    best_a = np.argmax(Q_s)\n",
        "    policy_s[best_a] = 1 - epsilon + (epsilon / nA)\n",
        "    return policy_s\n",
        "  \n",
        "''' \n",
        "Now we will use this get_probs func in generating the episode. \n",
        "Note that we are no longer using the stochastic policy we started with, instead building upon it in an epsilon greedy way.\n",
        "'''\n",
        "def generate_episode_from_Q(env, Q, epsilon, nA):\n",
        "    # generates an episode from following the epsilon-greedy policy\n",
        "    episode = []\n",
        "    state = env.reset()\n",
        "    while True:\n",
        "        action = np.random.choice(np.arange(nA), p=get_probs(Q[state], epsilon, nA)) \\\n",
        "                                    if state in Q else env.action_space.sample()\n",
        "        next_state, reward, done, info = env.step(action)\n",
        "        episode.append((state, action, reward))\n",
        "        state = next_state\n",
        "        if done:\n",
        "            break\n",
        "    return episode\n",
        "\n",
        "''' \n",
        "Finally Q values are approximated by taking average of corresponding returns.\n",
        "But instead we can write it using incremental mean and constant alpha.\n",
        "As we are using constant alpha we need not keep a track of N-table, ie how many times we visited that state.\n",
        "''' \n",
        "\n",
        "def update_Q(env, episode, Q, alpha, gamma):\n",
        "    # updates the action-value function estimate using the most recent episode \n",
        "    states, actions, rewards = zip(*episode)\n",
        "    # prepare for discounting\n",
        "    discounts = np.array([gamma**i for i in range(len(rewards)+1)])\n",
        "    for i, state in enumerate(states):\n",
        "        old_Q = Q[state][actions[i]] \n",
        "        Q[state][actions[i]] = old_Q + alpha*(sum(rewards[i:]*discounts[:-(1+i)]) - old_Q)\n",
        "    return Q\n",
        "\n",
        "def mc_control_onpolicy(env, num_episodes, alpha, gamma=1.0, eps_start=1.0, eps_decay=.99999, eps_min=0.05):\n",
        "    nA = env.action_space.n\n",
        "    # initialize empty dictionary of arrays\n",
        "    Q = defaultdict(lambda: np.zeros(nA))\n",
        "    epsilon = eps_start\n",
        "    # loop over episodes\n",
        "    for i_episode in range(1, num_episodes+1):\n",
        "        # monitor progress\n",
        "        if i_episode % 1000 == 0:\n",
        "            print(\"\\rEpisode {}/{}.\".format(i_episode, num_episodes), end=\"\")\n",
        "            sys.stdout.flush()\n",
        "        # set the value of epsilon\n",
        "        epsilon = max(epsilon*eps_decay, eps_min)\n",
        "        # generate an episode by following epsilon-greedy policy\n",
        "        episode = generate_episode_from_Q(env, Q, epsilon, nA)\n",
        "        # update the action-value function estimate using the episode\n",
        "        Q = update_Q(env, episode, Q, alpha, gamma)\n",
        "    # determine the policy corresponding to the final action-value function estimate\n",
        "    policy = dict((k,np.argmax(v)) for k, v in Q.items())\n",
        "    return policy, Q"
      ],
      "execution_count": null,
      "outputs": []
    },
    {
      "cell_type": "code",
      "metadata": {
        "colab": {
          "base_uri": "https://localhost:8080/"
        },
        "id": "JU3_5aPVK7Nf",
        "outputId": "018e3c3a-500b-42ce-eac6-00498cddf477"
      },
      "source": [
        "# obtain the estimated optimal policy and action-value function\n",
        "onpolicy, onpolicy_Q = mc_control_onpolicy(env, NUM_LEARN_EPISODES, 0.015)"
      ],
      "execution_count": null,
      "outputs": [
        {
          "output_type": "stream",
          "text": [
            "Episode 500000/500000."
          ],
          "name": "stdout"
        }
      ]
    },
    {
      "cell_type": "code",
      "metadata": {
        "id": "gvcz87yfLNXx"
      },
      "source": [
        "def plot_policy(policy):\n",
        "\n",
        "    def get_Z(x, y, usable_ace):\n",
        "        if (x,y,usable_ace) in policy:\n",
        "            return policy[x,y,usable_ace]\n",
        "        else:\n",
        "            return 1\n",
        "\n",
        "    def get_figure(usable_ace, ax):\n",
        "        x_range = np.arange(11, 22)\n",
        "        y_range = np.arange(10, 0, -1)\n",
        "        X, Y = np.meshgrid(x_range, y_range)\n",
        "        Z = np.array([[get_Z(x,y,usable_ace) for x in x_range] for y in y_range])\n",
        "        surf = ax.imshow(Z, cmap=plt.get_cmap('Pastel2', 2), vmin=0, vmax=1, extent=[10.5, 21.5, 0.5, 10.5])\n",
        "        plt.xticks(x_range)\n",
        "        plt.yticks(y_range)\n",
        "        plt.gca().invert_yaxis()\n",
        "        ax.set_xlabel('Player\\'s Current Sum')\n",
        "        ax.set_ylabel('Dealer\\'s Showing Card')\n",
        "        ax.grid(color='w', linestyle='-', linewidth=1)\n",
        "        divider = make_axes_locatable(ax)\n",
        "        cax = divider.append_axes(\"right\", size=\"5%\", pad=0.1)\n",
        "        cbar = plt.colorbar(surf, ticks=[0,1], cax=cax)\n",
        "        cbar.ax.set_yticklabels(['0 (STICK)','1 (HIT)'])\n",
        "            \n",
        "    fig = plt.figure(figsize=(15, 15))\n",
        "    ax = fig.add_subplot(121)\n",
        "    ax.set_title('Usable Ace')\n",
        "    get_figure(True, ax)\n",
        "    ax = fig.add_subplot(122)\n",
        "    ax.set_title('No Usable Ace')\n",
        "    get_figure(False, ax)\n",
        "    plt.show()\n"
      ],
      "execution_count": null,
      "outputs": []
    },
    {
      "cell_type": "code",
      "metadata": {
        "colab": {
          "base_uri": "https://localhost:8080/",
          "height": 401
        },
        "id": "bFmrL7TGETib",
        "outputId": "8c6fe1f9-ad9a-484b-b744-419ea744310d"
      },
      "source": [
        "# plot the MC control on-policy\n",
        "plot_policy(onpolicy)"
      ],
      "execution_count": null,
      "outputs": [
        {
          "output_type": "display_data",
          "data": {
            "image/png": "[encoded data removed]",
            "text/plain": [
              "<Figure size 1080x1080 with 4 Axes>"
            ]
          },
          "metadata": {
            "tags": [],
            "needs_background": "light"
          }
        }
      ]
    },
    {
      "cell_type": "code",
      "metadata": {
        "id": "IWi3Cow5LVcV"
      },
      "source": [
        "# Off-Policy Monte Carlo Control\n",
        "\n",
        "def init_random_policy(nA):\n",
        "    A = np.ones(nA, dtype=float) / nA\n",
        "    def policy_fn(observation):\n",
        "        return A\n",
        "    return policy_fn\n",
        "\n",
        "def greedy_policy(Q):\n",
        "  def policy_fn(state):\n",
        "    A = np.zeros_like(Q[state], dtype=float)\n",
        "    best_action = np.argmax(Q[state])\n",
        "    A[best_action] = 1.0\n",
        "    return A\n",
        "  return policy_fn\n",
        "\n",
        "\n",
        "def generate_episode_from_Q(env, Q, behavior_policy, epsilon):\n",
        "  episode = []\n",
        "  state = env.reset()\n",
        "  while True:\n",
        "    # probs = behavior_policy(state)\n",
        "    # action = np.random.choice(np.arange(len(probs)), p=probs)\n",
        "    action = np.random.choice(np.arange(nA), p=get_probs(Q[state], epsilon, nA)) \\\n",
        "                                  if state in Q else env.action_space.sample()\n",
        "    next_state, reward, done, _ = env.step(action)\n",
        "    episode.append((state, action, reward))\n",
        "    state = next_state\n",
        "    if done:\n",
        "        break\n",
        "  return episode\n",
        "\n",
        "\n",
        "def update_C_Q(env, episode, C, Q, behavior_policy, target_policy, gamma):\n",
        "  G = 0.0\n",
        "  W = 1.0\n",
        "  for t in range(len(episode))[::-1]:\n",
        "    state, action, reward = episode[t]\n",
        "    G = gamma * G + reward\n",
        "    C[state][action] += W\n",
        "    Q[state][action] += (W / C[state][action]) * (G - Q[state][action])\n",
        "    if action != np.argmax(target_policy(state)):\n",
        "      # exit inner loop and proceed to next episode\n",
        "      break\n",
        "    W = W * 1./behavior_policy(state)[action]\n",
        "  return C, Q"
      ],
      "execution_count": null,
      "outputs": []
    },
    {
      "cell_type": "code",
      "metadata": {
        "id": "BmITXuvaTl0A"
      },
      "source": [
        "def mc_control_offpolicy(env, num_episodes, behavior_policy, max_time=100, gamma=1.0, eps_start=1.0, eps_decay=.99999, eps_min=0.05):\n",
        "  Q = defaultdict(lambda:np.zeros(env.action_space.n))\n",
        "  # initialize cumulative sum\n",
        "  C = defaultdict(lambda:np.zeros(env.action_space.n))\n",
        "  target_policy = greedy_policy(Q)\n",
        "  epsilon = eps_start\n",
        "  for i_episode in range(1, num_episodes+1):\n",
        "    if i_episode % 1000 == 0:\n",
        "        print(\"\\rEpisode {}/{}.\".format(i_episode, num_episodes), end=\"\")\n",
        "        sys.stdout.flush()\n",
        "    # set the value of epsilon\n",
        "    epsilon = max(epsilon*eps_decay, eps_min)\n",
        "    # generate an episode by following initial behaviour policy policy\n",
        "    episode = generate_episode_from_Q(env, Q, behavior_policy, epsilon)\n",
        "    # update the action-value function estimate using the episode\n",
        "    C, Q = update_C_Q(env, episode, C, Q, behavior_policy, target_policy, gamma)\n",
        "  policy = dict((s,np.argmax(v)) for s, v in Q.items())\n",
        "  return policy, Q "
      ],
      "execution_count": null,
      "outputs": []
    },
    {
      "cell_type": "code",
      "metadata": {
        "colab": {
          "base_uri": "https://localhost:8080/"
        },
        "id": "WoOATxojUKCP",
        "outputId": "f81c439a-556c-46ee-f19c-bcb568d01714"
      },
      "source": [
        "random_policy = init_random_policy(env.action_space.n)\n",
        "# obtain the estimated optimal policy and action-value function\n",
        "offpolicy, offpolicy_Q = mc_control_offpolicy(env, num_episodes=NUM_LEARN_EPISODES, behavior_policy=random_policy)"
      ],
      "execution_count": null,
      "outputs": [
        {
          "output_type": "stream",
          "text": [
            "Episode 500000/500000."
          ],
          "name": "stdout"
        }
      ]
    },
    {
      "cell_type": "code",
      "metadata": {
        "id": "T8WgAOe8eAM4",
        "colab": {
          "base_uri": "https://localhost:8080/",
          "height": 401
        },
        "outputId": "e13dd119-ec23-4b64-c918-f1b9080a751d"
      },
      "source": [
        "plot_policy(offpolicy)"
      ],
      "execution_count": null,
      "outputs": [
        {
          "output_type": "display_data",
          "data": {
            "image/png": "[encoded data removed]",
            "text/plain": [
              "<Figure size 1080x1080 with 4 Axes>"
            ]
          },
          "metadata": {
            "tags": [],
            "needs_background": "light"
          }
        }
      ]
    },
    {
      "cell_type": "code",
      "metadata": {
        "id": "13H6GYIAI8OS"
      },
      "source": [
        "# Running the MC off-policy learned on thy gym blackjack env\n",
        "nA=env.action_space.n\n",
        "# mean reward for each experiment\n",
        "offpolicy_epi_mean_rewards = []\n",
        "for experiment in range(NUM_EXPERIMENTS):\n",
        "  # each experiment has N episodes\n",
        "  exp_ep_rewards = 0\n",
        "  for i_episode in range(NUM_EPISODES_TEST):\n",
        "    state = env.reset()\n",
        "    while True:\n",
        "      # print(state)\n",
        "      action = np.random.choice(np.arange(nA), p=get_probs(offpolicy_Q[state], 0, nA)) \\\n",
        "                                  if state in offpolicy_Q else env.action_space.sample()\n",
        "      next_state, reward, done, info = env.step(action)\n",
        "      state = next_state\n",
        "      if done:\n",
        "        exp_ep_rewards += reward\n",
        "        break\n",
        "  offpolicy_epi_mean_rewards.append(np.mean(exp_ep_rewards))\n",
        "\n",
        "# Running the MC on-policy learned on thy gym blackjack env\n",
        "# mean reward for each experiment\n",
        "onpolicy_epi_mean_rewards = []\n",
        "for experiment in range(NUM_EXPERIMENTS):\n",
        "  # each experiment has N episodes\n",
        "  exp_ep_rewards = 0\n",
        "  for i_episode in range(NUM_EPISODES_TEST):\n",
        "    state = env.reset()\n",
        "    while True:\n",
        "      # print(state)\n",
        "      action = np.random.choice(np.arange(nA), p=get_probs(onpolicy_Q[state], 0, nA)) \\\n",
        "                                  if state in onpolicy_Q else env.action_space.sample()\n",
        "      next_state, reward, done, info = env.step(action)\n",
        "      state = next_state\n",
        "      if done:\n",
        "        exp_ep_rewards += reward\n",
        "        break\n",
        "  onpolicy_epi_mean_rewards.append(np.mean(exp_ep_rewards))"
      ],
      "execution_count": null,
      "outputs": []
    },
    {
      "cell_type": "code",
      "metadata": {
        "colab": {
          "base_uri": "https://localhost:8080/"
        },
        "id": "hD3qFJlpr1tc",
        "outputId": "9aaf9867-dd5c-495d-ca90-868b87c7ae46"
      },
      "source": [
        "print('Onpolicy mean reward: {}'.format(np.mean(onpolicy_epi_mean_rewards)))\n",
        "print('Offpolicy mean reward: {}'.format(np.mean(offpolicy_epi_mean_rewards)))\n",
        "print('Onpolicy std reward: {}'.format(np.std(onpolicy_epi_mean_rewards)))\n",
        "print('Offpolicy std reward: {}'.format(np.std(offpolicy_epi_mean_rewards)))"
      ],
      "execution_count": null,
      "outputs": [
        {
          "output_type": "stream",
          "text": [
            "Onpolicy mean reward: -54.5\n",
            "Offpolicy mean reward: -61.98\n",
            "Onpolicy std reward: 30.538664017929797\n",
            "Offpolicy std reward: 31.418141256286948\n"
          ],
          "name": "stdout"
        }
      ]
    },
    {
      "cell_type": "code",
      "metadata": {
        "colab": {
          "base_uri": "https://localhost:8080/",
          "height": 297
        },
        "id": "ASZsO73noD8g",
        "outputId": "82ee102e-2cb2-4808-b112-b40eb947a3b3"
      },
      "source": [
        "plt.bar(['on_policy','off_policy'], [np.mean(onpolicy_epi_mean_rewards), np.mean(offpolicy_epi_mean_rewards)], yerr=[np.std(onpolicy_epi_mean_rewards), np.std(offpolicy_epi_mean_rewards)], align='center', alpha=0.5, ecolor='black', capsize=5, width=[.4]*2)\n",
        "plt.title('Error plot for On-policy vs Off-policy MC control with {} episodes'.format(NUM_EPISODES_TEST))\n",
        "plt.ylabel('Mean Reward')\n",
        "plt.xlabel('Policy')\n",
        "plt.xticks(['on_policy','off_policy'])\n",
        "plt.tight_layout()"
      ],
      "execution_count": null,
      "outputs": [
        {
          "output_type": "display_data",
          "data": {
            "image/png": "[encoded data removed]",
            "text/plain": [
              "<Figure size 432x288 with 1 Axes>"
            ]
          },
          "metadata": {
            "tags": [],
            "needs_background": "light"
          }
        }
      ]
    },
    {
      "cell_type": "code",
      "metadata": {
        "id": "Wh0IsVpI0rwt"
      },
      "source": [
        ""
      ],
      "execution_count": null,
      "outputs": []
    }
  ]
}