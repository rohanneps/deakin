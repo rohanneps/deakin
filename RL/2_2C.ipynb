{
  "nbformat": 4,
  "nbformat_minor": 0,
  "metadata": {
    "colab": {
      "name": "2.2C.ipynb",
      "provenance": [],
      "collapsed_sections": []
    },
    "kernelspec": {
      "name": "python3",
      "display_name": "Python 3"
    },
    "language_info": {
      "name": "python"
    }
  },
  "cells": [
    {
      "cell_type": "code",
      "metadata": {
        "id": "VLAtmEO7glCr",
        "colab": {
          "base_uri": "https://localhost:8080/"
        },
        "outputId": "9adfd20a-9c68-4dd6-e5ef-2efc88432384"
      },
      "source": [
        "# install required system dependencies\n",
        "!apt-get install -y xvfb x11-utils  \n",
        "!apt-get install x11-utils > /dev/null 2>&1\n",
        "!pip install PyOpenGL==3.1.* \\\n",
        "            PyOpenGL-accelerate==3.1.* \\\n",
        "            gym[box2d]==0.17.* \n",
        "!pip install pyglet\n",
        "!pip install ffmpeg\n",
        "! pip install pyvirtualdisplay\n",
        "!pip install Image\n",
        "!pip install gym-maze-trustycoder83"
      ],
      "execution_count": 1,
      "outputs": [
        {
          "output_type": "stream",
          "text": [
            "Reading package lists... Done\n",
            "Building dependency tree       \n",
            "Reading state information... Done\n",
            "x11-utils is already the newest version (7.7+3build1).\n",
            "xvfb is already the newest version (2:1.19.6-1ubuntu4.8).\n",
            "0 upgraded, 0 newly installed, 0 to remove and 30 not upgraded.\n",
            "Requirement already satisfied: PyOpenGL==3.1.* in /usr/local/lib/python3.7/dist-packages (3.1.5)\n",
            "Requirement already satisfied: PyOpenGL-accelerate==3.1.* in /usr/local/lib/python3.7/dist-packages (3.1.5)\n",
            "Requirement already satisfied: gym[box2d]==0.17.* in /usr/local/lib/python3.7/dist-packages (0.17.2)\n",
            "Requirement already satisfied: pyglet<=1.5.0,>=1.4.0 in /usr/local/lib/python3.7/dist-packages (from gym[box2d]==0.17.*) (1.5.0)\n",
            "Requirement already satisfied: scipy in /usr/local/lib/python3.7/dist-packages (from gym[box2d]==0.17.*) (1.4.1)\n",
            "Requirement already satisfied: numpy>=1.10.4 in /usr/local/lib/python3.7/dist-packages (from gym[box2d]==0.17.*) (1.18.5)\n",
            "Requirement already satisfied: cloudpickle<1.4.0,>=1.2.0 in /usr/local/lib/python3.7/dist-packages (from gym[box2d]==0.17.*) (1.3.0)\n",
            "Requirement already satisfied: box2d-py~=2.3.5; extra == \"box2d\" in /usr/local/lib/python3.7/dist-packages (from gym[box2d]==0.17.*) (2.3.8)\n",
            "Requirement already satisfied: future in /usr/local/lib/python3.7/dist-packages (from pyglet<=1.5.0,>=1.4.0->gym[box2d]==0.17.*) (0.16.0)\n",
            "Requirement already satisfied: pyglet in /usr/local/lib/python3.7/dist-packages (1.5.0)\n",
            "Requirement already satisfied: future in /usr/local/lib/python3.7/dist-packages (from pyglet) (0.16.0)\n",
            "Requirement already satisfied: ffmpeg in /usr/local/lib/python3.7/dist-packages (1.4)\n",
            "Requirement already satisfied: pyvirtualdisplay in /usr/local/lib/python3.7/dist-packages (2.1)\n",
            "Requirement already satisfied: EasyProcess in /usr/local/lib/python3.7/dist-packages (from pyvirtualdisplay) (0.3)\n",
            "Requirement already satisfied: Image in /usr/local/lib/python3.7/dist-packages (1.5.33)\n",
            "Requirement already satisfied: pillow in /usr/local/lib/python3.7/dist-packages (from Image) (7.0.0)\n",
            "Requirement already satisfied: django in /usr/local/lib/python3.7/dist-packages (from Image) (3.1.7)\n",
            "Requirement already satisfied: six in /usr/local/lib/python3.7/dist-packages (from Image) (1.15.0)\n",
            "Requirement already satisfied: asgiref<4,>=3.2.10 in /usr/local/lib/python3.7/dist-packages (from django->Image) (3.3.1)\n",
            "Requirement already satisfied: pytz in /usr/local/lib/python3.7/dist-packages (from django->Image) (2018.9)\n",
            "Requirement already satisfied: sqlparse>=0.2.2 in /usr/local/lib/python3.7/dist-packages (from django->Image) (0.4.1)\n",
            "Requirement already satisfied: gym-maze-trustycoder83 in /usr/local/lib/python3.7/dist-packages (0.0.4)\n",
            "Requirement already satisfied: gym==0.17.2 in /usr/local/lib/python3.7/dist-packages (from gym-maze-trustycoder83) (0.17.2)\n",
            "Requirement already satisfied: numpy==1.18.5 in /usr/local/lib/python3.7/dist-packages (from gym-maze-trustycoder83) (1.18.5)\n",
            "Requirement already satisfied: pygame==1.9.6 in /usr/local/lib/python3.7/dist-packages (from gym-maze-trustycoder83) (1.9.6)\n",
            "Requirement already satisfied: cloudpickle<1.4.0,>=1.2.0 in /usr/local/lib/python3.7/dist-packages (from gym==0.17.2->gym-maze-trustycoder83) (1.3.0)\n",
            "Requirement already satisfied: pyglet<=1.5.0,>=1.4.0 in /usr/local/lib/python3.7/dist-packages (from gym==0.17.2->gym-maze-trustycoder83) (1.5.0)\n",
            "Requirement already satisfied: scipy in /usr/local/lib/python3.7/dist-packages (from gym==0.17.2->gym-maze-trustycoder83) (1.4.1)\n",
            "Requirement already satisfied: future in /usr/local/lib/python3.7/dist-packages (from pyglet<=1.5.0,>=1.4.0->gym==0.17.2->gym-maze-trustycoder83) (0.16.0)\n"
          ],
          "name": "stdout"
        }
      ]
    },
    {
      "cell_type": "code",
      "metadata": {
        "colab": {
          "base_uri": "https://localhost:8080/"
        },
        "id": "w0_8frDCg7xg",
        "outputId": "19c39088-8393-4f5b-e56b-f5ee31bb3d0d"
      },
      "source": [
        "!mkdir ./vid\n",
        "!rm ./vid/*.*"
      ],
      "execution_count": 2,
      "outputs": [
        {
          "output_type": "stream",
          "text": [
            "rm: cannot remove './vid/*.*': No such file or directory\n"
          ],
          "name": "stdout"
        }
      ]
    },
    {
      "cell_type": "code",
      "metadata": {
        "id": "iJf3EOPyhMp2",
        "colab": {
          "base_uri": "https://localhost:8080/"
        },
        "outputId": "3252d773-d354-4fcd-f4d0-1a70c0435d97"
      },
      "source": [
        "import sys\n",
        "import numpy as np\n",
        "import gym  \n",
        "import gym_maze\n",
        "from pyvirtualdisplay import Display\n",
        "from gym.wrappers.monitoring import video_recorder\n",
        "from matplotlib import pyplot as plt\n",
        "\n",
        "d = Display()\n",
        "d.start()\n",
        "\n",
        "# Setup the environment for the maze\n",
        "env = gym.make(\"maze-sample-10x10-v0\")"
      ],
      "execution_count": 3,
      "outputs": [
        {
          "output_type": "stream",
          "text": [
            "pygame 1.9.6\n",
            "Hello from the pygame community. https://www.pygame.org/contribute.html\n"
          ],
          "name": "stdout"
        }
      ]
    },
    {
      "cell_type": "code",
      "metadata": {
        "id": "9GGBUwDwkVxf"
      },
      "source": [
        "#states_dic[0,3]"
      ],
      "execution_count": 4,
      "outputs": []
    },
    {
      "cell_type": "code",
      "metadata": {
        "id": "D5x7QXzthZPb"
      },
      "source": [
        "def perform_epsilon_greedy(ep, df, init=1):\n",
        "  \"\"\"\n",
        "    Using ε-greedy algorithm.\n",
        "    Params:\n",
        "      ep: The exploration rate.\n",
        "      df: discount factor.\n",
        "      init: Initialization label. 1 for realistic and 2 for optimistic\n",
        "  \"\"\"\n",
        "  if init not in [1,2]:\n",
        "    return 'Error Initialization'\n",
        "  global env\n",
        "  current_state = env.reset()\n",
        "\n",
        "  # initialization\n",
        "  # Setting the random seed for reproducibility\n",
        "  np.random.seed(7)\n",
        "  # Number of episode we will run\n",
        "  n_episodes = 20\n",
        "\n",
        "  # Maximum of iteration per episode\n",
        "  max_iter_episode = 500\n",
        "\n",
        "  # exploration probability which is given\n",
        "  exploration_proba = ep\n",
        "\n",
        "  states_dic = {} #dictionary to keep the states/coordinates of the Q table\n",
        "  count = 0\n",
        "  for i in range(10):\n",
        "      for j in range(10):\n",
        "          states_dic[i, j] = count\n",
        "          count+=1\n",
        "          \n",
        "  n_actions = env.action_space.n\n",
        "\n",
        "  if init == 1:\n",
        "    # Initialize the Q-table to 0\n",
        "    Q_table = np.zeros((len(states_dic),n_actions))\n",
        "  else:\n",
        "    # optimistic intialization\n",
        "    Q_table = np.full((len(states_dic),n_actions), 0.5)\n",
        "\n",
        "  # Step counter\n",
        "  num_actions = 0\n",
        "\n",
        "  rewards_per_episode = list()\n",
        "  print('------------------------------------------------------')\n",
        "  print('For ε: {} and \tγ: {}'.format(ep, df))\n",
        "  print('------------------------')\n",
        "\n",
        "  # Iterate over episodes\n",
        "  for e in range(n_episodes):\n",
        "      # We are not done yet\n",
        "      done = False\n",
        "      # Sum the rewards that the agent gets from the environment\n",
        "      total_episode_reward = 0\n",
        "      for i in range(max_iter_episode):\n",
        "          # For each time step in each episode\n",
        "          # env.unwrapped.render()\n",
        "          # vid.capture_frame()\n",
        "          current_coordinate_x = int(current_state[0])\n",
        "          current_coordinate_y = int(current_state[1])\n",
        "          current_Q_table_coordinates = states_dic[current_coordinate_x, current_coordinate_y]\n",
        "\n",
        "          # Using ε-greedy algorithm\n",
        "          if np.random.uniform(0,1) < exploration_proba:\n",
        "            # exploration\n",
        "            action = env.action_space.sample()\n",
        "          else:\n",
        "            # exploitation\n",
        "            action = int(np.argmax(Q_table[current_Q_table_coordinates]))\n",
        "\n",
        "          next_state, reward, done, _ = env.step(action)\n",
        "\n",
        "          next_coordinate_x = int(next_state[0]) #get coordinates to be used in dictionary\n",
        "          next_coordinate_y = int(next_state[1]) #get coordinates to be used in dictionary\n",
        "          next_Q_table_coordinates = states_dic[next_coordinate_x, next_coordinate_y]\n",
        "\n",
        "          # updating step counter\n",
        "          num_actions += 1\n",
        "\n",
        "          # Calculate learning rate\n",
        "          lr = 1/num_actions\n",
        "\n",
        "          # Update our Q-table using the Q-learning iteration\n",
        "          Q_table[current_Q_table_coordinates, action] = Q_table[current_Q_table_coordinates, action] + lr*(reward - (df*max(Q_table[next_Q_table_coordinates,:])))\n",
        "      \n",
        "          total_episode_reward = total_episode_reward + reward\n",
        "          # If the episode is finished, we leave the for loop\n",
        "          if done:\n",
        "              break\n",
        "          current_state = next_state\n",
        "\n",
        "      #Show the total episode reward        \n",
        "      print(\"Total episode reward:\", total_episode_reward)\n",
        "      #Reset enviroment for next episode\n",
        "      current_state = env.reset()\n",
        "      rewards_per_episode.append(total_episode_reward)\n",
        "  return rewards_per_episode"
      ],
      "execution_count": 20,
      "outputs": []
    },
    {
      "cell_type": "code",
      "metadata": {
        "id": "Spx5s5FZhsnZ",
        "colab": {
          "base_uri": "https://localhost:8080/"
        },
        "outputId": "05625012-5b1f-4b85-ee50-3cd6c3845586"
      },
      "source": [
        "# For realistic initialization\n",
        "dr_range = [0, .5, 1]\n",
        "# ep_range = np.linspace(0,1,5)\n",
        "ep_range = [0,0.01,0.1]\n",
        "ep_dr_reward = []\n",
        "for ep in ep_range:\n",
        "  for dr in dr_range:\n",
        "    ep_dr_reward.append(perform_epsilon_greedy(ep, dr))"
      ],
      "execution_count": 21,
      "outputs": [
        {
          "output_type": "stream",
          "text": [
            "------------------------------------------------------\n",
            "For ε: 0 and \tγ: 0\n",
            "------------------------\n",
            "Total episode reward: 0.6219999999999997\n",
            "Total episode reward: -0.5000000000000003\n",
            "Total episode reward: -0.5000000000000003\n",
            "Total episode reward: -0.5000000000000003\n",
            "Total episode reward: -0.5000000000000003\n",
            "Total episode reward: -0.5000000000000003\n",
            "Total episode reward: -0.5000000000000003\n",
            "Total episode reward: -0.5000000000000003\n",
            "Total episode reward: -0.5000000000000003\n",
            "Total episode reward: -0.5000000000000003\n",
            "Total episode reward: -0.5000000000000003\n",
            "Total episode reward: -0.5000000000000003\n",
            "Total episode reward: -0.5000000000000003\n",
            "Total episode reward: -0.5000000000000003\n",
            "Total episode reward: -0.5000000000000003\n",
            "Total episode reward: -0.5000000000000003\n",
            "Total episode reward: -0.5000000000000003\n",
            "Total episode reward: -0.5000000000000003\n",
            "Total episode reward: -0.5000000000000003\n",
            "Total episode reward: -0.5000000000000003\n",
            "------------------------------------------------------\n",
            "For ε: 0 and \tγ: 0.5\n",
            "------------------------\n",
            "Total episode reward: 0.5699999999999996\n",
            "Total episode reward: -0.5000000000000003\n",
            "Total episode reward: -0.5000000000000003\n",
            "Total episode reward: -0.5000000000000003\n",
            "Total episode reward: -0.5000000000000003\n",
            "Total episode reward: -0.5000000000000003\n",
            "Total episode reward: -0.5000000000000003\n",
            "Total episode reward: -0.5000000000000003\n",
            "Total episode reward: -0.5000000000000003\n",
            "Total episode reward: -0.5000000000000003\n",
            "Total episode reward: -0.5000000000000003\n",
            "Total episode reward: -0.5000000000000003\n",
            "Total episode reward: -0.5000000000000003\n",
            "Total episode reward: -0.5000000000000003\n",
            "Total episode reward: -0.5000000000000003\n",
            "Total episode reward: -0.5000000000000003\n",
            "Total episode reward: -0.5000000000000003\n",
            "Total episode reward: -0.5000000000000003\n",
            "Total episode reward: -0.5000000000000003\n",
            "Total episode reward: -0.5000000000000003\n",
            "------------------------------------------------------\n",
            "For ε: 0 and \tγ: 1\n",
            "------------------------\n",
            "Total episode reward: 0.5669999999999997\n",
            "Total episode reward: -0.5000000000000003\n",
            "Total episode reward: -0.5000000000000003\n",
            "Total episode reward: -0.5000000000000003\n",
            "Total episode reward: -0.5000000000000003\n",
            "Total episode reward: -0.5000000000000003\n",
            "Total episode reward: -0.5000000000000003\n",
            "Total episode reward: -0.5000000000000003\n",
            "Total episode reward: -0.5000000000000003\n",
            "Total episode reward: -0.5000000000000003\n",
            "Total episode reward: -0.5000000000000003\n",
            "Total episode reward: -0.5000000000000003\n",
            "Total episode reward: -0.5000000000000003\n",
            "Total episode reward: -0.5000000000000003\n",
            "Total episode reward: -0.5000000000000003\n",
            "Total episode reward: -0.5000000000000003\n",
            "Total episode reward: -0.5000000000000003\n",
            "Total episode reward: -0.5000000000000003\n",
            "Total episode reward: -0.5000000000000003\n",
            "Total episode reward: -0.5000000000000003\n",
            "------------------------------------------------------\n",
            "For ε: 0.01 and \tγ: 0\n",
            "------------------------\n",
            "Total episode reward: -0.5000000000000003\n",
            "Total episode reward: -0.5000000000000003\n",
            "Total episode reward: 0.5839999999999996\n",
            "Total episode reward: -0.5000000000000003\n",
            "Total episode reward: -0.5000000000000003\n",
            "Total episode reward: -0.5000000000000003\n",
            "Total episode reward: -0.5000000000000003\n",
            "Total episode reward: -0.5000000000000003\n",
            "Total episode reward: -0.5000000000000003\n",
            "Total episode reward: -0.5000000000000003\n",
            "Total episode reward: -0.5000000000000003\n",
            "Total episode reward: -0.5000000000000003\n",
            "Total episode reward: -0.5000000000000003\n",
            "Total episode reward: -0.5000000000000003\n",
            "Total episode reward: -0.5000000000000003\n",
            "Total episode reward: -0.5000000000000003\n",
            "Total episode reward: 0.6279999999999997\n",
            "Total episode reward: -0.5000000000000003\n",
            "Total episode reward: -0.5000000000000003\n",
            "Total episode reward: -0.5000000000000003\n",
            "------------------------------------------------------\n",
            "For ε: 0.01 and \tγ: 0.5\n",
            "------------------------\n",
            "Total episode reward: 0.5659999999999996\n",
            "Total episode reward: -0.5000000000000003\n",
            "Total episode reward: -0.5000000000000003\n",
            "Total episode reward: -0.5000000000000003\n",
            "Total episode reward: -0.5000000000000003\n",
            "Total episode reward: -0.5000000000000003\n",
            "Total episode reward: -0.5000000000000003\n",
            "Total episode reward: -0.5000000000000003\n",
            "Total episode reward: -0.5000000000000003\n",
            "Total episode reward: -0.5000000000000003\n",
            "Total episode reward: -0.5000000000000003\n",
            "Total episode reward: -0.5000000000000003\n",
            "Total episode reward: -0.5000000000000003\n",
            "Total episode reward: -0.5000000000000003\n",
            "Total episode reward: -0.5000000000000003\n",
            "Total episode reward: -0.5000000000000003\n",
            "Total episode reward: -0.5000000000000003\n",
            "Total episode reward: -0.5000000000000003\n",
            "Total episode reward: -0.5000000000000003\n",
            "Total episode reward: -0.5000000000000003\n",
            "------------------------------------------------------\n",
            "For ε: 0.01 and \tγ: 1\n",
            "------------------------\n",
            "Total episode reward: 0.5659999999999996\n",
            "Total episode reward: -0.5000000000000003\n",
            "Total episode reward: -0.5000000000000003\n",
            "Total episode reward: -0.5000000000000003\n",
            "Total episode reward: -0.5000000000000003\n",
            "Total episode reward: -0.5000000000000003\n",
            "Total episode reward: -0.5000000000000003\n",
            "Total episode reward: -0.5000000000000003\n",
            "Total episode reward: -0.5000000000000003\n",
            "Total episode reward: -0.5000000000000003\n",
            "Total episode reward: -0.5000000000000003\n",
            "Total episode reward: -0.5000000000000003\n",
            "Total episode reward: -0.5000000000000003\n",
            "Total episode reward: -0.5000000000000003\n",
            "Total episode reward: -0.5000000000000003\n",
            "Total episode reward: -0.5000000000000003\n",
            "Total episode reward: -0.5000000000000003\n",
            "Total episode reward: -0.5000000000000003\n",
            "Total episode reward: -0.5000000000000003\n",
            "Total episode reward: -0.5000000000000003\n",
            "------------------------------------------------------\n",
            "For ε: 0.1 and \tγ: 0\n",
            "------------------------\n",
            "Total episode reward: 0.5559999999999996\n",
            "Total episode reward: -0.5000000000000003\n",
            "Total episode reward: -0.5000000000000003\n",
            "Total episode reward: -0.5000000000000003\n",
            "Total episode reward: -0.5000000000000003\n",
            "Total episode reward: -0.5000000000000003\n",
            "Total episode reward: -0.5000000000000003\n",
            "Total episode reward: -0.5000000000000003\n",
            "Total episode reward: -0.5000000000000003\n",
            "Total episode reward: -0.5000000000000003\n",
            "Total episode reward: -0.5000000000000003\n",
            "Total episode reward: -0.5000000000000003\n",
            "Total episode reward: -0.5000000000000003\n",
            "Total episode reward: -0.5000000000000003\n",
            "Total episode reward: -0.5000000000000003\n",
            "Total episode reward: -0.5000000000000003\n",
            "Total episode reward: -0.5000000000000003\n",
            "Total episode reward: -0.5000000000000003\n",
            "Total episode reward: -0.5000000000000003\n",
            "Total episode reward: -0.5000000000000003\n",
            "------------------------------------------------------\n",
            "For ε: 0.1 and \tγ: 0.5\n",
            "------------------------\n",
            "Total episode reward: -0.5000000000000003\n",
            "Total episode reward: -0.5000000000000003\n",
            "Total episode reward: -0.5000000000000003\n",
            "Total episode reward: 0.5549999999999997\n",
            "Total episode reward: -0.5000000000000003\n",
            "Total episode reward: -0.5000000000000003\n",
            "Total episode reward: -0.5000000000000003\n",
            "Total episode reward: -0.5000000000000003\n",
            "Total episode reward: -0.5000000000000003\n",
            "Total episode reward: -0.5000000000000003\n",
            "Total episode reward: -0.5000000000000003\n",
            "Total episode reward: -0.5000000000000003\n",
            "Total episode reward: -0.5000000000000003\n",
            "Total episode reward: -0.5000000000000003\n",
            "Total episode reward: -0.5000000000000003\n",
            "Total episode reward: -0.5000000000000003\n",
            "Total episode reward: -0.5000000000000003\n",
            "Total episode reward: -0.5000000000000003\n",
            "Total episode reward: -0.5000000000000003\n",
            "Total episode reward: -0.5000000000000003\n",
            "------------------------------------------------------\n",
            "For ε: 0.1 and \tγ: 1\n",
            "------------------------\n",
            "Total episode reward: -0.5000000000000003\n",
            "Total episode reward: 0.7269999999999999\n",
            "Total episode reward: -0.5000000000000003\n",
            "Total episode reward: -0.5000000000000003\n",
            "Total episode reward: -0.5000000000000003\n",
            "Total episode reward: -0.5000000000000003\n",
            "Total episode reward: -0.5000000000000003\n",
            "Total episode reward: -0.5000000000000003\n",
            "Total episode reward: -0.5000000000000003\n",
            "Total episode reward: -0.5000000000000003\n",
            "Total episode reward: -0.5000000000000003\n",
            "Total episode reward: -0.5000000000000003\n",
            "Total episode reward: -0.5000000000000003\n",
            "Total episode reward: -0.5000000000000003\n",
            "Total episode reward: -0.5000000000000003\n",
            "Total episode reward: -0.5000000000000003\n",
            "Total episode reward: -0.5000000000000003\n",
            "Total episode reward: -0.5000000000000003\n",
            "Total episode reward: -0.5000000000000003\n",
            "Total episode reward: -0.5000000000000003\n"
          ],
          "name": "stdout"
        }
      ]
    },
    {
      "cell_type": "code",
      "metadata": {
        "colab": {
          "base_uri": "https://localhost:8080/",
          "height": 855
        },
        "id": "dpVPJKVnpVBW",
        "outputId": "56322ea6-4e2e-4854-e4d9-2e338455b781"
      },
      "source": [
        "# average reward across γ value for each ε value\n",
        "ep_dr_average_reward_list = []\n",
        "for cnt, ep in enumerate(ep_range):\n",
        "    start_idx = cnt*3\n",
        "    end_idx = (cnt+1)*3\n",
        "    ep_reward_subset = ep_dr_reward[start_idx:end_idx]\n",
        "    print('For ε: {}'.format(ep))\n",
        "    # average reward across discount factor for each ε value\n",
        "    dr_reward_avg_list = []\n",
        "    for dr_cnt, df_ep_reward_subset in enumerate(ep_reward_subset):\n",
        "      reward_sum = sum(df_ep_reward_subset)\n",
        "      reward_avg = reward_sum/len(df_ep_reward_subset)\n",
        "      dr_reward_avg_list.append(reward_avg)\n",
        "    plt.plot(dr_range, dr_reward_avg_list)\n",
        "    plt.xlabel('Discount Factor (γ)')\n",
        "    plt.ylabel('Average reward')\n",
        "    plt.show()\n",
        "    # getting average for entire epsilon value\n",
        "    ep_dr_average_reward_list.append(sum(dr_reward_avg_list)/len(dr_reward_avg_list))"
      ],
      "execution_count": 22,
      "outputs": [
        {
          "output_type": "stream",
          "text": [
            "For ε: 0\n"
          ],
          "name": "stdout"
        },
        {
          "output_type": "display_data",
          "data": {
            "image/png": "[encoded data removed]",
            "text/plain": [
              "<Figure size 432x288 with 1 Axes>"
            ]
          },
          "metadata": {
            "tags": [],
            "needs_background": "light"
          }
        },
        {
          "output_type": "stream",
          "text": [
            "For ε: 0.01\n"
          ],
          "name": "stdout"
        },
        {
          "output_type": "display_data",
          "data": {
            "image/png": "[encoded data removed]",
            "text/plain": [
              "<Figure size 432x288 with 1 Axes>"
            ]
          },
          "metadata": {
            "tags": [],
            "needs_background": "light"
          }
        },
        {
          "output_type": "stream",
          "text": [
            "For ε: 0.1\n"
          ],
          "name": "stdout"
        },
        {
          "output_type": "display_data",
          "data": {
            "image/png": "[encoded data removed]",
            "text/plain": [
              "<Figure size 432x288 with 1 Axes>"
            ]
          },
          "metadata": {
            "tags": [],
            "needs_background": "light"
          }
        }
      ]
    },
    {
      "cell_type": "code",
      "metadata": {
        "colab": {
          "base_uri": "https://localhost:8080/",
          "height": 295
        },
        "id": "71jwUlgSpWNG",
        "outputId": "346a9ed9-aaec-4818-c1c2-8e645b98929e"
      },
      "source": [
        "# For average reward across ε values\n",
        "plt.title('Average reward across ε values for realistic intialization')\n",
        "plt.plot(ep_range, ep_dr_average_reward_list)\n",
        "plt.xlabel('Epsilon Range (ε)')\n",
        "plt.ylabel('Average reward')\n",
        "plt.show()"
      ],
      "execution_count": 23,
      "outputs": [
        {
          "output_type": "display_data",
          "data": {
            "image/png": "[encoded data removed]",
            "text/plain": [
              "<Figure size 432x288 with 1 Axes>"
            ]
          },
          "metadata": {
            "tags": [],
            "needs_background": "light"
          }
        }
      ]
    },
    {
      "cell_type": "code",
      "metadata": {
        "id": "CCxMAiFO4EoG",
        "colab": {
          "base_uri": "https://localhost:8080/"
        },
        "outputId": "41718ba9-7699-4ec1-d8af-8fe84c54c691"
      },
      "source": [
        "# For optimistic initialization\n",
        "opt_ep_dr_reward = []\n",
        "for ep in ep_range:\n",
        "  for dr in dr_range:\n",
        "    opt_ep_dr_reward.append(perform_epsilon_greedy(ep, dr, 2))"
      ],
      "execution_count": 24,
      "outputs": [
        {
          "output_type": "stream",
          "text": [
            "------------------------------------------------------\n",
            "For ε: 0 and \tγ: 0\n",
            "------------------------\n",
            "Total episode reward: 0.6219999999999997\n",
            "Total episode reward: -0.5000000000000003\n",
            "Total episode reward: -0.5000000000000003\n",
            "Total episode reward: -0.5000000000000003\n",
            "Total episode reward: -0.5000000000000003\n",
            "Total episode reward: -0.5000000000000003\n",
            "Total episode reward: -0.5000000000000003\n",
            "Total episode reward: -0.5000000000000003\n",
            "Total episode reward: -0.5000000000000003\n",
            "Total episode reward: -0.5000000000000003\n",
            "Total episode reward: -0.5000000000000003\n",
            "Total episode reward: -0.5000000000000003\n",
            "Total episode reward: -0.5000000000000003\n",
            "Total episode reward: -0.5000000000000003\n",
            "Total episode reward: -0.5000000000000003\n",
            "Total episode reward: -0.5000000000000003\n",
            "Total episode reward: -0.5000000000000003\n",
            "Total episode reward: -0.5000000000000003\n",
            "Total episode reward: -0.5000000000000003\n",
            "Total episode reward: -0.5000000000000003\n",
            "------------------------------------------------------\n",
            "For ε: 0 and \tγ: 0.5\n",
            "------------------------\n",
            "Total episode reward: 0.5699999999999996\n",
            "Total episode reward: -0.5000000000000003\n",
            "Total episode reward: -0.5000000000000003\n",
            "Total episode reward: -0.5000000000000003\n",
            "Total episode reward: -0.5000000000000003\n",
            "Total episode reward: -0.5000000000000003\n",
            "Total episode reward: -0.5000000000000003\n",
            "Total episode reward: -0.5000000000000003\n",
            "Total episode reward: -0.5000000000000003\n",
            "Total episode reward: -0.5000000000000003\n",
            "Total episode reward: -0.5000000000000003\n",
            "Total episode reward: -0.5000000000000003\n",
            "Total episode reward: -0.5000000000000003\n",
            "Total episode reward: -0.5000000000000003\n",
            "Total episode reward: -0.5000000000000003\n",
            "Total episode reward: -0.5000000000000003\n",
            "Total episode reward: -0.5000000000000003\n",
            "Total episode reward: -0.5000000000000003\n",
            "Total episode reward: -0.5000000000000003\n",
            "Total episode reward: -0.5000000000000003\n",
            "------------------------------------------------------\n",
            "For ε: 0 and \tγ: 1\n",
            "------------------------\n",
            "Total episode reward: 0.5669999999999997\n",
            "Total episode reward: -0.5000000000000003\n",
            "Total episode reward: -0.5000000000000003\n",
            "Total episode reward: -0.5000000000000003\n",
            "Total episode reward: -0.5000000000000003\n",
            "Total episode reward: -0.5000000000000003\n",
            "Total episode reward: -0.5000000000000003\n",
            "Total episode reward: -0.5000000000000003\n",
            "Total episode reward: -0.5000000000000003\n",
            "Total episode reward: -0.5000000000000003\n",
            "Total episode reward: -0.5000000000000003\n",
            "Total episode reward: -0.5000000000000003\n",
            "Total episode reward: -0.5000000000000003\n",
            "Total episode reward: -0.5000000000000003\n",
            "Total episode reward: -0.5000000000000003\n",
            "Total episode reward: -0.5000000000000003\n",
            "Total episode reward: -0.5000000000000003\n",
            "Total episode reward: -0.5000000000000003\n",
            "Total episode reward: -0.5000000000000003\n",
            "Total episode reward: -0.5000000000000003\n",
            "------------------------------------------------------\n",
            "For ε: 0.01 and \tγ: 0\n",
            "------------------------\n",
            "Total episode reward: -0.5000000000000003\n",
            "Total episode reward: -0.5000000000000003\n",
            "Total episode reward: -0.5000000000000003\n",
            "Total episode reward: -0.5000000000000003\n",
            "Total episode reward: -0.5000000000000003\n",
            "Total episode reward: -0.5000000000000003\n",
            "Total episode reward: -0.5000000000000003\n",
            "Total episode reward: -0.5000000000000003\n",
            "Total episode reward: 0.6219999999999997\n",
            "Total episode reward: -0.5000000000000003\n",
            "Total episode reward: -0.5000000000000003\n",
            "Total episode reward: 0.7999999999999998\n",
            "Total episode reward: -0.5000000000000003\n",
            "Total episode reward: -0.5000000000000003\n",
            "Total episode reward: 0.5099999999999996\n",
            "Total episode reward: -0.5000000000000003\n",
            "Total episode reward: -0.5000000000000003\n",
            "Total episode reward: -0.5000000000000003\n",
            "Total episode reward: -0.5000000000000003\n",
            "Total episode reward: 0.7849999999999998\n",
            "------------------------------------------------------\n",
            "For ε: 0.01 and \tγ: 0.5\n",
            "------------------------\n",
            "Total episode reward: 0.5689999999999997\n",
            "Total episode reward: -0.5000000000000003\n",
            "Total episode reward: -0.5000000000000003\n",
            "Total episode reward: -0.5000000000000003\n",
            "Total episode reward: -0.5000000000000003\n",
            "Total episode reward: -0.5000000000000003\n",
            "Total episode reward: -0.5000000000000003\n",
            "Total episode reward: -0.5000000000000003\n",
            "Total episode reward: -0.5000000000000003\n",
            "Total episode reward: -0.5000000000000003\n",
            "Total episode reward: -0.5000000000000003\n",
            "Total episode reward: -0.5000000000000003\n",
            "Total episode reward: -0.5000000000000003\n",
            "Total episode reward: -0.5000000000000003\n",
            "Total episode reward: -0.5000000000000003\n",
            "Total episode reward: -0.5000000000000003\n",
            "Total episode reward: -0.5000000000000003\n",
            "Total episode reward: -0.5000000000000003\n",
            "Total episode reward: -0.5000000000000003\n",
            "Total episode reward: -0.5000000000000003\n",
            "------------------------------------------------------\n",
            "For ε: 0.01 and \tγ: 1\n",
            "------------------------\n",
            "Total episode reward: 0.5029999999999997\n",
            "Total episode reward: -0.5000000000000003\n",
            "Total episode reward: -0.5000000000000003\n",
            "Total episode reward: -0.5000000000000003\n",
            "Total episode reward: -0.5000000000000003\n",
            "Total episode reward: -0.5000000000000003\n",
            "Total episode reward: -0.5000000000000003\n",
            "Total episode reward: -0.5000000000000003\n",
            "Total episode reward: -0.5000000000000003\n",
            "Total episode reward: -0.5000000000000003\n",
            "Total episode reward: -0.5000000000000003\n",
            "Total episode reward: -0.5000000000000003\n",
            "Total episode reward: -0.5000000000000003\n",
            "Total episode reward: -0.5000000000000003\n",
            "Total episode reward: -0.5000000000000003\n",
            "Total episode reward: -0.5000000000000003\n",
            "Total episode reward: -0.5000000000000003\n",
            "Total episode reward: -0.5000000000000003\n",
            "Total episode reward: -0.5000000000000003\n",
            "Total episode reward: -0.5000000000000003\n",
            "------------------------------------------------------\n",
            "For ε: 0.1 and \tγ: 0\n",
            "------------------------\n",
            "Total episode reward: -0.5000000000000003\n",
            "Total episode reward: -0.5000000000000003\n",
            "Total episode reward: -0.5000000000000003\n",
            "Total episode reward: 0.8329999999999999\n",
            "Total episode reward: -0.5000000000000003\n",
            "Total episode reward: -0.5000000000000003\n",
            "Total episode reward: -0.5000000000000003\n",
            "Total episode reward: -0.5000000000000003\n",
            "Total episode reward: -0.5000000000000003\n",
            "Total episode reward: -0.5000000000000003\n",
            "Total episode reward: -0.5000000000000003\n",
            "Total episode reward: -0.5000000000000003\n",
            "Total episode reward: 0.7169999999999999\n",
            "Total episode reward: -0.5000000000000003\n",
            "Total episode reward: -0.5000000000000003\n",
            "Total episode reward: -0.5000000000000003\n",
            "Total episode reward: -0.5000000000000003\n",
            "Total episode reward: 0.7239999999999998\n",
            "Total episode reward: -0.5000000000000003\n",
            "Total episode reward: -0.5000000000000003\n",
            "------------------------------------------------------\n",
            "For ε: 0.1 and \tγ: 0.5\n",
            "------------------------\n",
            "Total episode reward: 0.6019999999999996\n",
            "Total episode reward: -0.5000000000000003\n",
            "Total episode reward: -0.5000000000000003\n",
            "Total episode reward: -0.5000000000000003\n",
            "Total episode reward: -0.5000000000000003\n",
            "Total episode reward: -0.5000000000000003\n",
            "Total episode reward: -0.5000000000000003\n",
            "Total episode reward: -0.5000000000000003\n",
            "Total episode reward: -0.5000000000000003\n",
            "Total episode reward: -0.5000000000000003\n",
            "Total episode reward: -0.5000000000000003\n",
            "Total episode reward: -0.5000000000000003\n",
            "Total episode reward: -0.5000000000000003\n",
            "Total episode reward: -0.5000000000000003\n",
            "Total episode reward: -0.5000000000000003\n",
            "Total episode reward: -0.5000000000000003\n",
            "Total episode reward: -0.5000000000000003\n",
            "Total episode reward: -0.5000000000000003\n",
            "Total episode reward: -0.5000000000000003\n",
            "Total episode reward: -0.5000000000000003\n",
            "------------------------------------------------------\n",
            "For ε: 0.1 and \tγ: 1\n",
            "------------------------\n",
            "Total episode reward: -0.5000000000000003\n",
            "Total episode reward: -0.5000000000000003\n",
            "Total episode reward: -0.5000000000000003\n",
            "Total episode reward: -0.5000000000000003\n",
            "Total episode reward: -0.5000000000000003\n",
            "Total episode reward: 0.5949999999999998\n",
            "Total episode reward: -0.5000000000000003\n",
            "Total episode reward: -0.5000000000000003\n",
            "Total episode reward: -0.5000000000000003\n",
            "Total episode reward: -0.5000000000000003\n",
            "Total episode reward: -0.5000000000000003\n",
            "Total episode reward: -0.5000000000000003\n",
            "Total episode reward: 0.6139999999999997\n",
            "Total episode reward: -0.5000000000000003\n",
            "Total episode reward: -0.5000000000000003\n",
            "Total episode reward: -0.5000000000000003\n",
            "Total episode reward: -0.5000000000000003\n",
            "Total episode reward: -0.5000000000000003\n",
            "Total episode reward: -0.5000000000000003\n",
            "Total episode reward: 0.7459999999999998\n"
          ],
          "name": "stdout"
        }
      ]
    },
    {
      "cell_type": "code",
      "metadata": {
        "colab": {
          "base_uri": "https://localhost:8080/",
          "height": 855
        },
        "id": "F-rRnq8ndjb1",
        "outputId": "33d1bcfa-fcd0-49d3-968c-f8991d505ae3"
      },
      "source": [
        "# average reward across γ value for each ε value for optimistic initialization\n",
        "opt_ep_dr_average_reward_list = []\n",
        "for cnt, ep in enumerate(ep_range):\n",
        "    start_idx = cnt*3\n",
        "    end_idx = (cnt+1)*3\n",
        "    ep_reward_subset = opt_ep_dr_reward[start_idx:end_idx]\n",
        "    print('For ε: {}'.format(ep))\n",
        "    # average reward across discount factor for each ε value\n",
        "    dr_reward_avg_list = []\n",
        "    for dr_cnt, df_ep_reward_subset in enumerate(ep_reward_subset):\n",
        "      reward_sum = sum(df_ep_reward_subset)\n",
        "      reward_avg = reward_sum/len(df_ep_reward_subset)\n",
        "      dr_reward_avg_list.append(reward_avg)\n",
        "    plt.plot(dr_range, dr_reward_avg_list)\n",
        "    plt.xlabel('Discount Factor (γ)')\n",
        "    plt.ylabel('Average reward')\n",
        "    plt.show()\n",
        "    # getting average for entire epsilon value\n",
        "    opt_ep_dr_average_reward_list.append(sum(dr_reward_avg_list)/len(dr_reward_avg_list))"
      ],
      "execution_count": 25,
      "outputs": [
        {
          "output_type": "stream",
          "text": [
            "For ε: 0\n"
          ],
          "name": "stdout"
        },
        {
          "output_type": "display_data",
          "data": {
            "image/png": "[encoded data removed]",
            "text/plain": [
              "<Figure size 432x288 with 1 Axes>"
            ]
          },
          "metadata": {
            "tags": [],
            "needs_background": "light"
          }
        },
        {
          "output_type": "stream",
          "text": [
            "For ε: 0.01\n"
          ],
          "name": "stdout"
        },
        {
          "output_type": "display_data",
          "data": {
            "image/png": "[encoded data removed]",
            "text/plain": [
              "<Figure size 432x288 with 1 Axes>"
            ]
          },
          "metadata": {
            "tags": [],
            "needs_background": "light"
          }
        },
        {
          "output_type": "stream",
          "text": [
            "For ε: 0.1\n"
          ],
          "name": "stdout"
        },
        {
          "output_type": "display_data",
          "data": {
            "image/png": "[encoded data removed]",
            "text/plain": [
              "<Figure size 432x288 with 1 Axes>"
            ]
          },
          "metadata": {
            "tags": [],
            "needs_background": "light"
          }
        }
      ]
    },
    {
      "cell_type": "code",
      "metadata": {
        "colab": {
          "base_uri": "https://localhost:8080/",
          "height": 295
        },
        "id": "KSK15LZadk1o",
        "outputId": "def57790-faa7-4707-8bbf-974dfb9bb1df"
      },
      "source": [
        "plt.title('Average reward across ε values for optimistic intialization')\n",
        "plt.plot(ep_range, opt_ep_dr_average_reward_list)\n",
        "plt.xlabel('Epsilon Range (ε)')\n",
        "plt.ylabel('Average reward')\n",
        "plt.show()"
      ],
      "execution_count": 26,
      "outputs": [
        {
          "output_type": "display_data",
          "data": {
            "image/png": "[encoded data removed]",
            "text/plain": [
              "<Figure size 432x288 with 1 Axes>"
            ]
          },
          "metadata": {
            "tags": [],
            "needs_background": "light"
          }
        }
      ]
    },
    {
      "cell_type": "code",
      "metadata": {
        "colab": {
          "base_uri": "https://localhost:8080/",
          "height": 295
        },
        "id": "Gfwyn7Zvx43Z",
        "outputId": "740fdcaf-0bb7-41d3-e58a-d1628ef502a4"
      },
      "source": [
        "# For average reward across ε values\n",
        "plt.title('Average reward across ε values for realistic vs optimistic intialization')\n",
        "plt.plot(ep_range, ep_dr_average_reward_list, label='realistic')\n",
        "plt.plot(ep_range, opt_ep_dr_average_reward_list, label='optimistic')\n",
        "plt.xlabel('Epsilon Range (ε)')\n",
        "plt.ylabel('Average reward')\n",
        "plt.legend()\n",
        "plt.show()"
      ],
      "execution_count": 30,
      "outputs": [
        {
          "output_type": "display_data",
          "data": {
            "image/png": "[encoded data removed]",
            "text/plain": [
              "<Figure size 432x288 with 1 Axes>"
            ]
          },
          "metadata": {
            "tags": [],
            "needs_background": "light"
          }
        }
      ]
    },
    {
      "cell_type": "code",
      "metadata": {
        "id": "JknjJqMZEMuz"
      },
      "source": [
        ""
      ],
      "execution_count": null,
      "outputs": []
    }
  ]
}