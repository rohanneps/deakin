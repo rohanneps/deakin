{
 "cells": [
  {
   "cell_type": "markdown",
   "metadata": {},
   "source": [
    "GitHub [link](https://github.com/MYUSER/MYPROJECT/)!"
   ]
  },
  {
   "cell_type": "markdown",
   "metadata": {},
   "source": [
    "Welcome to your assignment this week! \n",
    "\n",
    "\n",
    "# Classification task\n",
    "\n",
    "In this task you are asked to build a simple Feed Forward Neural Network, train it and test it!\n",
    "\n",
    "\n",
    "**After this assignment you will be able to:**\n",
    "\n",
    "- Load a dataset.\n",
    "- Train a Feed Forward Neural Network.\n",
    "- Test a Feed Forward Neural Network.\n",
    "\n",
    "Let's get started! Run the following cell to install all the packages you will need."
   ]
  },
  {
   "cell_type": "code",
   "execution_count": null,
   "metadata": {},
   "outputs": [],
   "source": [
    "#!pip install numpy\n",
    "#!pip install keras\n",
    "#!pip install tensorflow\n",
    "#!pip install pandas\n",
    "#!pip install matplotlib"
   ]
  },
  {
   "cell_type": "markdown",
   "metadata": {},
   "source": [
    "Run the following cell to load the packages you will need."
   ]
  },
  {
   "cell_type": "code",
   "execution_count": 62,
   "metadata": {},
   "outputs": [],
   "source": [
    "import numpy as np # linear algebra\n",
    "import pandas as pd # data processing, CSV file I/O (e.g. pd.read_csv)\n",
    "from sklearn.model_selection import train_test_split\n",
    "from sklearn.metrics import (\n",
    "\t\t\t\t\t\t\t\tconfusion_matrix,\n",
    "\t\t\t\t\t\t\t\taccuracy_score,\n",
    "\t\t\t\t\t\t\t\tprecision_score,\n",
    "\t\t\t\t\t\t\t\trecall_score,\n",
    "\t\t\t\t\t\t\t\tf1_score\n",
    "\t\t\t\t\t\t\t)\n",
    "import matplotlib.pyplot as plt\n",
    "from keras.models import Sequential\n",
    "from keras.layers import Dense, Dropout, Activation\n",
    "from keras import regularizers\n",
    "from keras.models import load_model\n",
    "from keras.callbacks import ReduceLROnPlateau,ModelCheckpoint, EarlyStopping\n",
    "from keras.optimizers import Adam\n",
    "import os\n",
    "import tensorflow as tf\n",
    "\n",
    "# Filtering tensorflow console log\n",
    "tf.get_logger().setLevel('INFO')\n",
    "\n",
    "#matplotlib inline"
   ]
  },
  {
   "cell_type": "code",
   "execution_count": 63,
   "metadata": {},
   "outputs": [],
   "source": [
    "# Global Variables\n",
    "BS = 16\n",
    "EPOCH = 200\n",
    "TEST_SPLIT = 0.2\n",
    "MODEL_SAVE_FILE_PATH = os.path.join('.','binary_ann.hdf5')"
   ]
  },
  {
   "cell_type": "markdown",
   "metadata": {},
   "source": [
    "The dataset we will use consists of 4500 examples with 512 features. A label is given for each example to indicate positive and negative instances.\n",
    "\n",
    "Let's read the data."
   ]
  },
  {
   "cell_type": "code",
   "execution_count": 64,
   "metadata": {},
   "outputs": [
    {
     "name": "stdout",
     "output_type": "stream",
     "text": [
      "         v1       v2       v3       v4       v5       v6       v7       v8  \\\n",
      "id                                                                           \n",
      "1   0.37797 -0.94808  0.01346  0.17893  0.37795  0.63571  0.13943 -0.25607   \n",
      "2   0.07609 -0.09774  0.39666 -0.39026  0.10606  0.52774  0.07105  0.33720   \n",
      "3   1.19391 -0.68707 -0.68422 -0.36378 -0.60847 -0.40118  1.45432  0.00592   \n",
      "4   1.34949 -0.31498 -1.30248  0.50278  1.66292 -1.06094 -0.70835 -0.24237   \n",
      "5  -0.03512 -0.34196  0.14230  1.50513 -0.14364  0.49429  0.07823 -0.04356   \n",
      "6  -0.46177 -0.29613  0.61101 -1.00880  0.29751 -1.08969 -0.85424 -0.13436   \n",
      "7  -0.47879 -0.89301 -1.21926  1.30133 -1.01324 -0.26255 -1.36692 -0.25257   \n",
      "8  -0.27780  1.19527  0.13443  0.03244 -0.98221  0.04890 -0.40746 -1.52098   \n",
      "9   0.15766 -0.25867 -1.04032 -0.27115 -0.73369 -0.48371 -0.56941 -0.32896   \n",
      "10  0.57303  0.00301  0.74221 -0.12980  0.42092 -0.56008  1.21466  0.14197   \n",
      "\n",
      "         v9      v10  ...     v504     v505     v506     v507     v508  \\\n",
      "id                    ...                                                \n",
      "1  -0.39341  1.08947  ... -0.03494  1.32443 -0.94570  0.02055 -1.23908   \n",
      "2   0.69917 -0.02842  ...  0.86624 -1.24953 -0.21511 -1.54146  1.04765   \n",
      "3   1.68940 -0.98205  ... -0.35893  0.02330  0.31548 -0.34923 -0.41772   \n",
      "4  -0.15509 -0.04532  ...  0.23942  0.20774  0.81792 -0.74814 -0.62521   \n",
      "5   0.42009 -0.88828  ... -1.78407  0.07465  1.50182 -0.41289 -0.55908   \n",
      "6  -1.53843 -0.75731  ...  1.26360 -0.16501 -0.92636 -0.33684  0.51239   \n",
      "7   0.28072 -0.29767  ...  0.08739  0.24023  0.22280 -0.07514 -1.06438   \n",
      "8  -1.26127  1.09206  ... -1.59254  0.54478  0.40396 -0.05492  0.19730   \n",
      "9  -0.53752 -1.20710  ...  0.15983  1.16205  0.15619  1.11097 -0.64861   \n",
      "10  0.00007 -0.90732  ...  0.04712 -0.28374 -0.38019 -0.47001 -0.33910   \n",
      "\n",
      "       v509     v510     v511     v512  label  \n",
      "id                                             \n",
      "1   0.43507  1.08635  1.69027  0.61609      0  \n",
      "2  -1.24035  0.00866 -1.27640 -0.60496      1  \n",
      "3  -0.58175 -0.60177  0.43555  0.41982      1  \n",
      "4   0.01689  0.83997 -0.46986  0.06755      0  \n",
      "5  -0.29702  0.83641  0.59756 -0.20298      0  \n",
      "6  -0.12769 -0.51985 -0.11441  1.15465      1  \n",
      "7  -1.02746  0.77484  1.01003  0.16091      1  \n",
      "8  -0.03659  0.43300 -0.96573  0.64797      1  \n",
      "9  -0.05478 -0.50529  0.10281  0.01353      0  \n",
      "10  0.06841  0.52389  0.17299  1.34879      1  \n",
      "\n",
      "[10 rows x 513 columns]\n"
     ]
    }
   ],
   "source": [
    "df = pd.read_csv('data.csv', index_col='id')\n",
    "# df.set_index('id', inplace=True)\n",
    "\n",
    "print(df.head(10))"
   ]
  },
  {
   "cell_type": "markdown",
   "metadata": {},
   "source": [
    "Now, let's split the data into training and test sets."
   ]
  },
  {
   "cell_type": "code",
   "execution_count": 65,
   "metadata": {},
   "outputs": [],
   "source": [
    "X_train, X_test, y_train, y_test = train_test_split(\n",
    "    df.index.values,\n",
    "    df.label.values,\n",
    "    test_size=TEST_SPLIT,\n",
    "    random_state=17,\n",
    "    stratify=df.label.values\n",
    ")\n",
    "df['data_type'] = ['note_set']*df.shape[0]\n",
    "df.loc[X_train, 'data_type'] = 'train'\n",
    "df.loc[X_test, 'data_type'] = 'test'\n",
    "\n",
    "## The data to use:\n",
    "\n",
    "X_train = df[df['data_type']=='train'].iloc[:,:512].values\n",
    "X_test = df[df['data_type']=='test'].iloc[:,:512].values\n",
    "y_train = df[df['data_type']=='train'].iloc[:,512:513].values\n",
    "y_test = df[df['data_type']=='test'].iloc[:,512:513].values"
   ]
  },
  {
   "cell_type": "markdown",
   "metadata": {},
   "source": [
    "# Task 1\n",
    "\n",
    "Build a Feed Forward Neural Network to address this classification task using the Keras framework."
   ]
  },
  {
   "cell_type": "code",
   "execution_count": 66,
   "metadata": {},
   "outputs": [],
   "source": [
    "# START YOUR CODE HERE\n",
    "def get_nn_model(input_features_dim):\n",
    "    \"\"\"\n",
    "    Params:\n",
    "    input_features_dim : Number of features in training data\n",
    "    \"\"\"\n",
    "    input_features_dim = X_train.shape[1]\n",
    "    model = Sequential()\n",
    "    model.add(Dense(32, input_dim=input_features_dim, kernel_regularizer=regularizers.l2(0.001), activation='relu'))\n",
    "    model.add(Dropout(0.3))\n",
    "    model.add(Dense(64, kernel_regularizer=regularizers.l2(0.001), activation='relu'))\n",
    "    model.add(Dropout(0.4))\n",
    "    model.add(Dense(128, kernel_regularizer=regularizers.l2(0.001), activation='relu'))\n",
    "    model.add(Dropout(0.5))\n",
    "    model.add(Dense(64, kernel_regularizer=regularizers.l2(0.001), activation='relu'))\n",
    "    model.add(Dropout(0.4))\n",
    "    model.add(Dense(32, kernel_regularizer=regularizers.l2(0.001), activation='relu'))\n",
    "    model.add(Dropout(0.2))\n",
    "    model.add(Dense(1, activation='sigmoid'))\n",
    "    return model"
   ]
  },
  {
   "cell_type": "code",
   "execution_count": 67,
   "metadata": {},
   "outputs": [],
   "source": [
    "model = get_nn_model(X_train.shape[1])\n",
    "model.compile(loss='binary_crossentropy',optimizer='adam',metrics=['acc'])\n",
    "# model.compile(loss='categorical_crossentropy',optimizer='adam',metrics=['acc'])\n",
    "\n",
    "# callbacks\n",
    "# Early stopping when the model performance doesn't increase for 50 epochs\n",
    "earlystopping = EarlyStopping(monitor='val_acc', mode='max', verbose=1, patience=30)\n",
    "# Change the learning rate by a factor when the performance doesn't increase for 15 epochs\n",
    "reduce_lr_on_plateau = ReduceLROnPlateau(monitor='val_acc', factor=0.1, patience=10, verbose=0, mode='auto', min_delta=0.01, min_lr=0.00001)\n",
    "# save the best model based on validation accuracy \n",
    "model_check_point = ModelCheckpoint(MODEL_SAVE_FILE_PATH, monitor='val_acc', verbose=0, save_best_only=True, mode='max', period=1)\n"
   ]
  },
  {
   "cell_type": "markdown",
   "metadata": {},
   "source": [
    "# Training\n",
    "\n",
    "Now, let's start our training."
   ]
  },
  {
   "cell_type": "code",
   "execution_count": 68,
   "metadata": {},
   "outputs": [
    {
     "name": "stdout",
     "output_type": "stream",
     "text": [
      "Train on 3600 samples, validate on 900 samples\n",
      "Epoch 1/200\n",
      "3600/3600 [==============================] - 3s 878us/step - loss: 0.9017 - acc: 0.6247 - val_loss: 0.7026 - val_acc: 0.8522\n",
      "Epoch 2/200\n",
      "3600/3600 [==============================] - 2s 474us/step - loss: 0.5182 - acc: 0.8875 - val_loss: 0.2909 - val_acc: 0.9744\n",
      "Epoch 3/200\n",
      "3600/3600 [==============================] - 2s 503us/step - loss: 0.2941 - acc: 0.9764 - val_loss: 0.2582 - val_acc: 0.9767\n",
      "Epoch 4/200\n",
      "3600/3600 [==============================] - 2s 455us/step - loss: 0.2358 - acc: 0.9861 - val_loss: 0.2191 - val_acc: 0.9833\n",
      "Epoch 5/200\n",
      "3600/3600 [==============================] - 2s 440us/step - loss: 0.2016 - acc: 0.9889 - val_loss: 0.1945 - val_acc: 0.9878\n",
      "Epoch 6/200\n",
      "3600/3600 [==============================] - 2s 465us/step - loss: 0.1656 - acc: 0.9944 - val_loss: 0.1752 - val_acc: 0.9867\n",
      "Epoch 7/200\n",
      "3600/3600 [==============================] - 2s 474us/step - loss: 0.1577 - acc: 0.9917 - val_loss: 0.1668 - val_acc: 0.9844\n",
      "Epoch 8/200\n",
      "3600/3600 [==============================] - 2s 490us/step - loss: 0.1364 - acc: 0.9944 - val_loss: 0.1535 - val_acc: 0.9867\n",
      "Epoch 9/200\n",
      "3600/3600 [==============================] - 2s 473us/step - loss: 0.1254 - acc: 0.9953 - val_loss: 0.1609 - val_acc: 0.9833\n",
      "Epoch 10/200\n",
      "3600/3600 [==============================] - 2s 451us/step - loss: 0.1191 - acc: 0.9942 - val_loss: 0.1322 - val_acc: 0.9878\n",
      "Epoch 11/200\n",
      "3600/3600 [==============================] - 2s 456us/step - loss: 0.1026 - acc: 0.9969 - val_loss: 0.1130 - val_acc: 0.9922\n",
      "Epoch 12/200\n",
      "3600/3600 [==============================] - 2s 454us/step - loss: 0.0957 - acc: 0.9967 - val_loss: 0.1242 - val_acc: 0.9900\n",
      "Epoch 13/200\n",
      "3600/3600 [==============================] - 2s 469us/step - loss: 0.0997 - acc: 0.9947 - val_loss: 0.1204 - val_acc: 0.9867\n",
      "Epoch 14/200\n",
      "3600/3600 [==============================] - 2s 466us/step - loss: 0.0887 - acc: 0.9972 - val_loss: 0.0976 - val_acc: 0.9933\n",
      "Epoch 15/200\n",
      "3600/3600 [==============================] - 2s 458us/step - loss: 0.0838 - acc: 0.9972 - val_loss: 0.1340 - val_acc: 0.9878\n",
      "Epoch 16/200\n",
      "3600/3600 [==============================] - 2s 459us/step - loss: 0.0812 - acc: 0.9978 - val_loss: 0.1209 - val_acc: 0.9900\n",
      "Epoch 17/200\n",
      "3600/3600 [==============================] - 2s 470us/step - loss: 0.0788 - acc: 0.9981 - val_loss: 0.1211 - val_acc: 0.9900\n",
      "Epoch 18/200\n",
      "3600/3600 [==============================] - 2s 465us/step - loss: 0.0825 - acc: 0.9961 - val_loss: 0.1159 - val_acc: 0.9889\n",
      "Epoch 19/200\n",
      "3600/3600 [==============================] - 2s 485us/step - loss: 0.0752 - acc: 0.9986 - val_loss: 0.1180 - val_acc: 0.9900\n",
      "Epoch 20/200\n",
      "3600/3600 [==============================] - 2s 486us/step - loss: 0.0759 - acc: 0.9986 - val_loss: 0.1195 - val_acc: 0.9900\n",
      "Epoch 21/200\n",
      "3600/3600 [==============================] - 2s 463us/step - loss: 0.0737 - acc: 0.9986 - val_loss: 0.1150 - val_acc: 0.9911\n",
      "Epoch 22/200\n",
      "3600/3600 [==============================] - 2s 473us/step - loss: 0.0727 - acc: 0.9989 - val_loss: 0.1140 - val_acc: 0.9911\n",
      "Epoch 23/200\n",
      "3600/3600 [==============================] - 2s 478us/step - loss: 0.0715 - acc: 0.9989 - val_loss: 0.1093 - val_acc: 0.9911\n",
      "Epoch 24/200\n",
      "3600/3600 [==============================] - 2s 483us/step - loss: 0.0700 - acc: 0.9989 - val_loss: 0.1168 - val_acc: 0.9889\n",
      "Epoch 25/200\n",
      "3600/3600 [==============================] - 2s 462us/step - loss: 0.0694 - acc: 0.9986 - val_loss: 0.1122 - val_acc: 0.9911\n",
      "Epoch 26/200\n",
      "3600/3600 [==============================] - 2s 461us/step - loss: 0.0690 - acc: 0.9989 - val_loss: 0.1123 - val_acc: 0.9911\n",
      "Epoch 27/200\n",
      "3600/3600 [==============================] - 2s 474us/step - loss: 0.0688 - acc: 0.9992 - val_loss: 0.1119 - val_acc: 0.9911\n",
      "Epoch 28/200\n",
      "3600/3600 [==============================] - 2s 465us/step - loss: 0.0700 - acc: 0.9983 - val_loss: 0.1120 - val_acc: 0.9911\n",
      "Epoch 29/200\n",
      "3600/3600 [==============================] - 2s 464us/step - loss: 0.0671 - acc: 0.9994 - val_loss: 0.1118 - val_acc: 0.9911\n",
      "Epoch 30/200\n",
      "3600/3600 [==============================] - 2s 472us/step - loss: 0.0691 - acc: 0.9992 - val_loss: 0.1109 - val_acc: 0.9911\n",
      "Epoch 31/200\n",
      "3600/3600 [==============================] - 2s 465us/step - loss: 0.0711 - acc: 0.9978 - val_loss: 0.1102 - val_acc: 0.9911\n",
      "Epoch 32/200\n",
      "3600/3600 [==============================] - 2s 474us/step - loss: 0.0670 - acc: 0.9992 - val_loss: 0.1104 - val_acc: 0.9911\n",
      "Epoch 33/200\n",
      "3600/3600 [==============================] - 2s 453us/step - loss: 0.0689 - acc: 0.9986 - val_loss: 0.1091 - val_acc: 0.9911\n",
      "Epoch 34/200\n",
      "3600/3600 [==============================] - 2s 478us/step - loss: 0.0703 - acc: 0.9981 - val_loss: 0.1097 - val_acc: 0.9911\n",
      "Epoch 35/200\n",
      "3600/3600 [==============================] - 2s 531us/step - loss: 0.0701 - acc: 0.9981 - val_loss: 0.1100 - val_acc: 0.9911\n",
      "Epoch 36/200\n",
      "3600/3600 [==============================] - 2s 512us/step - loss: 0.0670 - acc: 0.9994 - val_loss: 0.1096 - val_acc: 0.9911\n",
      "Epoch 37/200\n",
      "3600/3600 [==============================] - 2s 479us/step - loss: 0.0678 - acc: 0.9994 - val_loss: 0.1101 - val_acc: 0.9911\n",
      "Epoch 38/200\n",
      "3600/3600 [==============================] - 2s 471us/step - loss: 0.0669 - acc: 0.9994 - val_loss: 0.1098 - val_acc: 0.9911\n",
      "Epoch 39/200\n",
      "3600/3600 [==============================] - 2s 474us/step - loss: 0.0691 - acc: 0.9986 - val_loss: 0.1090 - val_acc: 0.9911\n",
      "Epoch 40/200\n",
      "3600/3600 [==============================] - 2s 477us/step - loss: 0.0665 - acc: 0.9994 - val_loss: 0.1096 - val_acc: 0.9911\n",
      "Epoch 41/200\n",
      "3600/3600 [==============================] - 2s 498us/step - loss: 0.0676 - acc: 0.9989 - val_loss: 0.1099 - val_acc: 0.9900\n",
      "Epoch 42/200\n",
      "3600/3600 [==============================] - 2s 485us/step - loss: 0.0662 - acc: 0.9992 - val_loss: 0.1103 - val_acc: 0.9900\n",
      "Epoch 43/200\n",
      "3600/3600 [==============================] - 2s 484us/step - loss: 0.0708 - acc: 0.9975 - val_loss: 0.1109 - val_acc: 0.9900\n",
      "Epoch 44/200\n",
      "3600/3600 [==============================] - 2s 480us/step - loss: 0.0680 - acc: 0.9986 - val_loss: 0.1112 - val_acc: 0.9900\n",
      "Epoch 00044: early stopping\n"
     ]
    }
   ],
   "source": [
    "# history = model.fit(X_train, y_train, epochs=200, batch_size=64, verbose=1)\n",
    "# Fit the model (training)\n",
    "history = model.fit(\n",
    "                    X_train, y_train,\n",
    "                    batch_size=BS,\n",
    "                    epochs=EPOCH,\n",
    "                    verbose=1, \n",
    "                    validation_data=(X_test, y_test),\n",
    "                    shuffle=True,\n",
    "                    callbacks=[earlystopping, reduce_lr_on_plateau, model_check_point]\n",
    "                    )\n"
   ]
  },
  {
   "cell_type": "code",
   "execution_count": 69,
   "metadata": {},
   "outputs": [
    {
     "data": {
      "image/png": "[encoded data removed]",
      "text/plain": [
       "<Figure size 432x288 with 1 Axes>"
      ]
     },
     "metadata": {
      "needs_background": "light"
     },
     "output_type": "display_data"
    },
    {
     "data": {
      "image/png": "[encoded data removed]",
      "text/plain": [
       "<Figure size 432x288 with 1 Axes>"
      ]
     },
     "metadata": {
      "needs_background": "light"
     },
     "output_type": "display_data"
    },
    {
     "data": {
      "image/png": "[encoded data removed]",
      "text/plain": [
       "<Figure size 432x288 with 1 Axes>"
      ]
     },
     "metadata": {
      "needs_background": "light"
     },
     "output_type": "display_data"
    },
    {
     "data": {
      "image/png": "[encoded data removed]",
      "text/plain": [
       "<Figure size 432x288 with 1 Axes>"
      ]
     },
     "metadata": {
      "needs_background": "light"
     },
     "output_type": "display_data"
    }
   ],
   "source": [
    "# Training summary\n",
    "acc = history.history['acc']\n",
    "loss = history.history['loss']\n",
    "epochs = range(len(acc))\n",
    "plt.plot(epochs, acc, 'b', label='Training accuracy')\n",
    "plt.title('Training accuracy')\n",
    "plt.figure()\n",
    "plt.plot(epochs, loss, 'b', label='Training Loss')\n",
    "plt.title('Training loss')\n",
    "\n",
    "# Validation summary\n",
    "val_acc = history.history['val_acc']\n",
    "val_loss = history.history['val_loss']\n",
    "epochs = range(len(acc))\n",
    "plt.figure()\n",
    "plt.plot(epochs, val_acc, 'b', label='Validation accuracy')\n",
    "plt.title('Validation accuracy')\n",
    "plt.figure()\n",
    "plt.plot(epochs, val_loss, 'b', label='Validation Loss')\n",
    "plt.title('Validation loss')\n",
    "plt.legend()\n",
    "plt.show()"
   ]
  },
  {
   "cell_type": "markdown",
   "metadata": {},
   "source": [
    "# Task 2\n",
    "\n",
    "Test the model on the test set."
   ]
  },
  {
   "cell_type": "code",
   "execution_count": 70,
   "metadata": {},
   "outputs": [],
   "source": [
    "# START YOUR CODE HERE\n",
    "def tf_load_saved_best_model():\n",
    "\t\"\"\"\n",
    "\tOutput:\n",
    "\t\tReturns best performing model saved\n",
    "\t\"\"\"\n",
    "\treturn load_model(MODEL_SAVE_FILE_PATH)"
   ]
  },
  {
   "cell_type": "code",
   "execution_count": 71,
   "metadata": {},
   "outputs": [],
   "source": [
    "# Loading the best model saved by modelcheckpoint callback\n",
    "model = tf_load_saved_best_model()"
   ]
  },
  {
   "cell_type": "code",
   "execution_count": 72,
   "metadata": {},
   "outputs": [],
   "source": [
    "# test prediction\n",
    "y_pred = model.predict(X_test)\n",
    "# converting the each probability score to class using a threshold of 0.5 for the test set\n",
    "for item in y_pred:\n",
    "    if item[0]>0.5:\n",
    "        item[0] = 1\n",
    "    else:\n",
    "        item[0] = 0"
   ]
  },
  {
   "cell_type": "code",
   "execution_count": 73,
   "metadata": {},
   "outputs": [
    {
     "name": "stdout",
     "output_type": "stream",
     "text": [
      "Confusion Matrix:\n",
      " [[317  12]\n",
      " [  0 571]]\n",
      "Accuracy 0.9866666666666667\n",
      "Precision: 0.9794168096054888\n",
      "Recall 1.0\n",
      "F1 score 0.9896013864818024\n"
     ]
    }
   ],
   "source": [
    "# model evaluation\n",
    "\n",
    "print('Confusion Matrix:\\n', confusion_matrix(y_test,pred_y))\n",
    "print('Accuracy', accuracy_score(y_test,pred_y))\n",
    "print('Precision:', precision_score(y_test,pred_y))\n",
    "print('Recall', recall_score(y_test,pred_y))\n",
    "print('F1 score', f1_score(y_test,pred_y))"
   ]
  },
  {
   "cell_type": "markdown",
   "metadata": {},
   "source": [
    "# Congratulations!\n",
    "\n",
    "You've come to the end of this assignment, and you have built your first neural network. \n",
    "\n",
    "Congratulations on finishing this notebook! \n",
    "\n"
   ]
  },
  {
   "cell_type": "code",
   "execution_count": null,
   "metadata": {},
   "outputs": [],
   "source": []
  }
 ],
 "metadata": {
  "coursera": {
   "course_slug": "nlp-sequence-models",
   "graded_item_id": "8hb5s",
   "launcher_item_id": "5NrJ6"
  },
  "kernelspec": {
   "display_name": "Python 3",
   "language": "python",
   "name": "python3"
  },
  "language_info": {
   "codemirror_mode": {
    "name": "ipython",
    "version": 3
   },
   "file_extension": ".py",
   "mimetype": "text/x-python",
   "name": "python",
   "nbconvert_exporter": "python",
   "pygments_lexer": "ipython3",
   "version": "3.6.9"
  }
 },
 "nbformat": 4,
 "nbformat_minor": 2
}
